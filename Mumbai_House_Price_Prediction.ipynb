{
  "cells": [
    {
      "cell_type": "markdown",
      "metadata": {
        "id": "view-in-github",
        "colab_type": "text"
      },
      "source": [
        "<a href=\"https://colab.research.google.com/github/manas0512/TCET_Project/blob/main/Mumbai_House_Price_Prediction.ipynb\" target=\"_parent\"><img src=\"https://colab.research.google.com/assets/colab-badge.svg\" alt=\"Open In Colab\"/></a>"
      ]
    },
    {
      "cell_type": "code",
      "execution_count": null,
      "metadata": {
        "id": "0ZDV_npUWuOv"
      },
      "outputs": [],
      "source": [
        "import pandas as pd\n",
        "import numpy as np"
      ]
    },
    {
      "cell_type": "code",
      "execution_count": null,
      "metadata": {
        "id": "ac3h5V7tT2xI",
        "outputId": "e290aa1b-d580-4a36-82b9-924c5e4734f7",
        "colab": {
          "base_uri": "https://localhost:8080/"
        }
      },
      "outputs": [
        {
          "output_type": "stream",
          "name": "stdout",
          "text": [
            "Mounted at /content/drive\n"
          ]
        }
      ],
      "source": [
        "from google.colab import drive\n",
        "drive.mount('/content/drive')"
      ]
    },
    {
      "cell_type": "code",
      "execution_count": null,
      "metadata": {
        "id": "ewR5flvqXCkg"
      },
      "outputs": [],
      "source": [
        "data = pd.read_csv(\"/content/drive/My Drive/Mumbai1.csv\")"
      ]
    },
    {
      "cell_type": "code",
      "execution_count": null,
      "metadata": {
        "id": "6PNtPNmiXGE4",
        "outputId": "e52eb81a-e1a4-4127-b640-7f10e7fdd446",
        "colab": {
          "base_uri": "https://localhost:8080/",
          "height": 287
        }
      },
      "outputs": [
        {
          "output_type": "execute_result",
          "data": {
            "text/plain": [
              "   Unnamed: 0    Price  Area  Location  No. of Bedrooms  New/Resale  \\\n",
              "0           0  4850000   720  Kharghar                1           0   \n",
              "1           1  4500000   600  Kharghar                1           0   \n",
              "2           2  6700000   650  Kharghar                1           0   \n",
              "3           3  4500000   650  Kharghar                1           0   \n",
              "4           4  5000000   665  Kharghar                1           0   \n",
              "\n",
              "   Gymnasium  Lift Available  Car Parking  Maintenance Staff  24x7 Security  \\\n",
              "0          0               1            1                  1              1   \n",
              "1          1               1            1                  1              1   \n",
              "2          1               1            1                  1              1   \n",
              "3          0               1            1                  1              1   \n",
              "4          0               1            1                  1              1   \n",
              "\n",
              "   Children's Play Area  Clubhouse  Intercom  Landscaped Gardens  \\\n",
              "0                     0          0         0                   0   \n",
              "1                     0          1         0                   0   \n",
              "2                     1          1         1                   0   \n",
              "3                     0          0         1                   1   \n",
              "4                     0          0         1                   1   \n",
              "\n",
              "   Indoor Games  Gas Connection  Jogging Track  Swimming Pool  \n",
              "0             0               0              0              0  \n",
              "1             0               0              1              1  \n",
              "2             0               0              1              1  \n",
              "3             0               0              0              0  \n",
              "4             0               0              0              0  "
            ],
            "text/html": [
              "\n",
              "  <div id=\"df-7b7915a6-b284-4a4d-ba94-8cce53daf733\">\n",
              "    <div class=\"colab-df-container\">\n",
              "      <div>\n",
              "<style scoped>\n",
              "    .dataframe tbody tr th:only-of-type {\n",
              "        vertical-align: middle;\n",
              "    }\n",
              "\n",
              "    .dataframe tbody tr th {\n",
              "        vertical-align: top;\n",
              "    }\n",
              "\n",
              "    .dataframe thead th {\n",
              "        text-align: right;\n",
              "    }\n",
              "</style>\n",
              "<table border=\"1\" class=\"dataframe\">\n",
              "  <thead>\n",
              "    <tr style=\"text-align: right;\">\n",
              "      <th></th>\n",
              "      <th>Unnamed: 0</th>\n",
              "      <th>Price</th>\n",
              "      <th>Area</th>\n",
              "      <th>Location</th>\n",
              "      <th>No. of Bedrooms</th>\n",
              "      <th>New/Resale</th>\n",
              "      <th>Gymnasium</th>\n",
              "      <th>Lift Available</th>\n",
              "      <th>Car Parking</th>\n",
              "      <th>Maintenance Staff</th>\n",
              "      <th>24x7 Security</th>\n",
              "      <th>Children's Play Area</th>\n",
              "      <th>Clubhouse</th>\n",
              "      <th>Intercom</th>\n",
              "      <th>Landscaped Gardens</th>\n",
              "      <th>Indoor Games</th>\n",
              "      <th>Gas Connection</th>\n",
              "      <th>Jogging Track</th>\n",
              "      <th>Swimming Pool</th>\n",
              "    </tr>\n",
              "  </thead>\n",
              "  <tbody>\n",
              "    <tr>\n",
              "      <th>0</th>\n",
              "      <td>0</td>\n",
              "      <td>4850000</td>\n",
              "      <td>720</td>\n",
              "      <td>Kharghar</td>\n",
              "      <td>1</td>\n",
              "      <td>0</td>\n",
              "      <td>0</td>\n",
              "      <td>1</td>\n",
              "      <td>1</td>\n",
              "      <td>1</td>\n",
              "      <td>1</td>\n",
              "      <td>0</td>\n",
              "      <td>0</td>\n",
              "      <td>0</td>\n",
              "      <td>0</td>\n",
              "      <td>0</td>\n",
              "      <td>0</td>\n",
              "      <td>0</td>\n",
              "      <td>0</td>\n",
              "    </tr>\n",
              "    <tr>\n",
              "      <th>1</th>\n",
              "      <td>1</td>\n",
              "      <td>4500000</td>\n",
              "      <td>600</td>\n",
              "      <td>Kharghar</td>\n",
              "      <td>1</td>\n",
              "      <td>0</td>\n",
              "      <td>1</td>\n",
              "      <td>1</td>\n",
              "      <td>1</td>\n",
              "      <td>1</td>\n",
              "      <td>1</td>\n",
              "      <td>0</td>\n",
              "      <td>1</td>\n",
              "      <td>0</td>\n",
              "      <td>0</td>\n",
              "      <td>0</td>\n",
              "      <td>0</td>\n",
              "      <td>1</td>\n",
              "      <td>1</td>\n",
              "    </tr>\n",
              "    <tr>\n",
              "      <th>2</th>\n",
              "      <td>2</td>\n",
              "      <td>6700000</td>\n",
              "      <td>650</td>\n",
              "      <td>Kharghar</td>\n",
              "      <td>1</td>\n",
              "      <td>0</td>\n",
              "      <td>1</td>\n",
              "      <td>1</td>\n",
              "      <td>1</td>\n",
              "      <td>1</td>\n",
              "      <td>1</td>\n",
              "      <td>1</td>\n",
              "      <td>1</td>\n",
              "      <td>1</td>\n",
              "      <td>0</td>\n",
              "      <td>0</td>\n",
              "      <td>0</td>\n",
              "      <td>1</td>\n",
              "      <td>1</td>\n",
              "    </tr>\n",
              "    <tr>\n",
              "      <th>3</th>\n",
              "      <td>3</td>\n",
              "      <td>4500000</td>\n",
              "      <td>650</td>\n",
              "      <td>Kharghar</td>\n",
              "      <td>1</td>\n",
              "      <td>0</td>\n",
              "      <td>0</td>\n",
              "      <td>1</td>\n",
              "      <td>1</td>\n",
              "      <td>1</td>\n",
              "      <td>1</td>\n",
              "      <td>0</td>\n",
              "      <td>0</td>\n",
              "      <td>1</td>\n",
              "      <td>1</td>\n",
              "      <td>0</td>\n",
              "      <td>0</td>\n",
              "      <td>0</td>\n",
              "      <td>0</td>\n",
              "    </tr>\n",
              "    <tr>\n",
              "      <th>4</th>\n",
              "      <td>4</td>\n",
              "      <td>5000000</td>\n",
              "      <td>665</td>\n",
              "      <td>Kharghar</td>\n",
              "      <td>1</td>\n",
              "      <td>0</td>\n",
              "      <td>0</td>\n",
              "      <td>1</td>\n",
              "      <td>1</td>\n",
              "      <td>1</td>\n",
              "      <td>1</td>\n",
              "      <td>0</td>\n",
              "      <td>0</td>\n",
              "      <td>1</td>\n",
              "      <td>1</td>\n",
              "      <td>0</td>\n",
              "      <td>0</td>\n",
              "      <td>0</td>\n",
              "      <td>0</td>\n",
              "    </tr>\n",
              "  </tbody>\n",
              "</table>\n",
              "</div>\n",
              "      <button class=\"colab-df-convert\" onclick=\"convertToInteractive('df-7b7915a6-b284-4a4d-ba94-8cce53daf733')\"\n",
              "              title=\"Convert this dataframe to an interactive table.\"\n",
              "              style=\"display:none;\">\n",
              "        \n",
              "  <svg xmlns=\"http://www.w3.org/2000/svg\" height=\"24px\"viewBox=\"0 0 24 24\"\n",
              "       width=\"24px\">\n",
              "    <path d=\"M0 0h24v24H0V0z\" fill=\"none\"/>\n",
              "    <path d=\"M18.56 5.44l.94 2.06.94-2.06 2.06-.94-2.06-.94-.94-2.06-.94 2.06-2.06.94zm-11 1L8.5 8.5l.94-2.06 2.06-.94-2.06-.94L8.5 2.5l-.94 2.06-2.06.94zm10 10l.94 2.06.94-2.06 2.06-.94-2.06-.94-.94-2.06-.94 2.06-2.06.94z\"/><path d=\"M17.41 7.96l-1.37-1.37c-.4-.4-.92-.59-1.43-.59-.52 0-1.04.2-1.43.59L10.3 9.45l-7.72 7.72c-.78.78-.78 2.05 0 2.83L4 21.41c.39.39.9.59 1.41.59.51 0 1.02-.2 1.41-.59l7.78-7.78 2.81-2.81c.8-.78.8-2.07 0-2.86zM5.41 20L4 18.59l7.72-7.72 1.47 1.35L5.41 20z\"/>\n",
              "  </svg>\n",
              "      </button>\n",
              "      \n",
              "  <style>\n",
              "    .colab-df-container {\n",
              "      display:flex;\n",
              "      flex-wrap:wrap;\n",
              "      gap: 12px;\n",
              "    }\n",
              "\n",
              "    .colab-df-convert {\n",
              "      background-color: #E8F0FE;\n",
              "      border: none;\n",
              "      border-radius: 50%;\n",
              "      cursor: pointer;\n",
              "      display: none;\n",
              "      fill: #1967D2;\n",
              "      height: 32px;\n",
              "      padding: 0 0 0 0;\n",
              "      width: 32px;\n",
              "    }\n",
              "\n",
              "    .colab-df-convert:hover {\n",
              "      background-color: #E2EBFA;\n",
              "      box-shadow: 0px 1px 2px rgba(60, 64, 67, 0.3), 0px 1px 3px 1px rgba(60, 64, 67, 0.15);\n",
              "      fill: #174EA6;\n",
              "    }\n",
              "\n",
              "    [theme=dark] .colab-df-convert {\n",
              "      background-color: #3B4455;\n",
              "      fill: #D2E3FC;\n",
              "    }\n",
              "\n",
              "    [theme=dark] .colab-df-convert:hover {\n",
              "      background-color: #434B5C;\n",
              "      box-shadow: 0px 1px 3px 1px rgba(0, 0, 0, 0.15);\n",
              "      filter: drop-shadow(0px 1px 2px rgba(0, 0, 0, 0.3));\n",
              "      fill: #FFFFFF;\n",
              "    }\n",
              "  </style>\n",
              "\n",
              "      <script>\n",
              "        const buttonEl =\n",
              "          document.querySelector('#df-7b7915a6-b284-4a4d-ba94-8cce53daf733 button.colab-df-convert');\n",
              "        buttonEl.style.display =\n",
              "          google.colab.kernel.accessAllowed ? 'block' : 'none';\n",
              "\n",
              "        async function convertToInteractive(key) {\n",
              "          const element = document.querySelector('#df-7b7915a6-b284-4a4d-ba94-8cce53daf733');\n",
              "          const dataTable =\n",
              "            await google.colab.kernel.invokeFunction('convertToInteractive',\n",
              "                                                     [key], {});\n",
              "          if (!dataTable) return;\n",
              "\n",
              "          const docLinkHtml = 'Like what you see? Visit the ' +\n",
              "            '<a target=\"_blank\" href=https://colab.research.google.com/notebooks/data_table.ipynb>data table notebook</a>'\n",
              "            + ' to learn more about interactive tables.';\n",
              "          element.innerHTML = '';\n",
              "          dataTable['output_type'] = 'display_data';\n",
              "          await google.colab.output.renderOutput(dataTable, element);\n",
              "          const docLink = document.createElement('div');\n",
              "          docLink.innerHTML = docLinkHtml;\n",
              "          element.appendChild(docLink);\n",
              "        }\n",
              "      </script>\n",
              "    </div>\n",
              "  </div>\n",
              "  "
            ]
          },
          "metadata": {},
          "execution_count": 4
        }
      ],
      "source": [
        "data.head()"
      ]
    },
    {
      "cell_type": "code",
      "execution_count": null,
      "metadata": {
        "id": "AGbNM1NaXHJf",
        "outputId": "a22b9030-91d3-4cf0-bf17-713e009526c7",
        "colab": {
          "base_uri": "https://localhost:8080/"
        }
      },
      "outputs": [
        {
          "output_type": "execute_result",
          "data": {
            "text/plain": [
              "(6347, 19)"
            ]
          },
          "metadata": {},
          "execution_count": 5
        }
      ],
      "source": [
        "data.shape"
      ]
    },
    {
      "cell_type": "code",
      "execution_count": null,
      "metadata": {
        "id": "1VsIC76PXV1S",
        "outputId": "ce7f9455-2d28-441e-ba68-4c85246da0b2",
        "colab": {
          "base_uri": "https://localhost:8080/"
        }
      },
      "outputs": [
        {
          "output_type": "stream",
          "name": "stdout",
          "text": [
            "<class 'pandas.core.frame.DataFrame'>\n",
            "RangeIndex: 6347 entries, 0 to 6346\n",
            "Data columns (total 19 columns):\n",
            " #   Column                Non-Null Count  Dtype \n",
            "---  ------                --------------  ----- \n",
            " 0   Unnamed: 0            6347 non-null   int64 \n",
            " 1   Price                 6347 non-null   int64 \n",
            " 2   Area                  6347 non-null   int64 \n",
            " 3   Location              6347 non-null   object\n",
            " 4   No. of Bedrooms       6347 non-null   int64 \n",
            " 5   New/Resale            6347 non-null   int64 \n",
            " 6   Gymnasium             6347 non-null   int64 \n",
            " 7   Lift Available        6347 non-null   int64 \n",
            " 8   Car Parking           6347 non-null   int64 \n",
            " 9   Maintenance Staff     6347 non-null   int64 \n",
            " 10  24x7 Security         6347 non-null   int64 \n",
            " 11  Children's Play Area  6347 non-null   int64 \n",
            " 12  Clubhouse             6347 non-null   int64 \n",
            " 13  Intercom              6347 non-null   int64 \n",
            " 14  Landscaped Gardens    6347 non-null   int64 \n",
            " 15  Indoor Games          6347 non-null   int64 \n",
            " 16  Gas Connection        6347 non-null   int64 \n",
            " 17  Jogging Track         6347 non-null   int64 \n",
            " 18  Swimming Pool         6347 non-null   int64 \n",
            "dtypes: int64(18), object(1)\n",
            "memory usage: 942.3+ KB\n"
          ]
        }
      ],
      "source": [
        "data.info()"
      ]
    },
    {
      "cell_type": "code",
      "execution_count": null,
      "metadata": {
        "id": "17VlnQhuXcFI",
        "outputId": "f0d7d16f-c790-4d5a-b3af-e1a003dc03f9",
        "colab": {
          "base_uri": "https://localhost:8080/"
        }
      },
      "outputs": [
        {
          "output_type": "stream",
          "name": "stdout",
          "text": [
            "0       1\n",
            "4239    1\n",
            "4237    1\n",
            "4236    1\n",
            "4235    1\n",
            "       ..\n",
            "2113    1\n",
            "2112    1\n",
            "2111    1\n",
            "2110    1\n",
            "6346    1\n",
            "Name: Unnamed: 0, Length: 6347, dtype: int64\n",
            "********************\n",
            "8500000     116\n",
            "9000000      93\n",
            "7500000      92\n",
            "4500000      88\n",
            "9500000      88\n",
            "           ... \n",
            "52600000      1\n",
            "5686000       1\n",
            "7881000       1\n",
            "2770000       1\n",
            "2465000       1\n",
            "Name: Price, Length: 979, dtype: int64\n",
            "********************\n",
            "650     263\n",
            "1050    146\n",
            "600     141\n",
            "1100    138\n",
            "1000     98\n",
            "       ... \n",
            "1487      1\n",
            "1558      1\n",
            "793       1\n",
            "596       1\n",
            "435       1\n",
            "Name: Area, Length: 1140, dtype: int64\n",
            "********************\n",
            "Kharghar             533\n",
            "Thane West           418\n",
            "Mira Road East       390\n",
            "Ulwe                 319\n",
            "Borivali West        176\n",
            "                    ... \n",
            "worli sea face         1\n",
            "Sea Face               1\n",
            "Shiv Sagar Estate      1\n",
            "Natakwala Lane         1\n",
            "Padle Gaon             1\n",
            "Name: Location, Length: 413, dtype: int64\n",
            "********************\n",
            "2    2601\n",
            "1    2307\n",
            "3    1201\n",
            "4     190\n",
            "5      39\n",
            "6       7\n",
            "7       2\n",
            "Name: No. of Bedrooms, dtype: int64\n",
            "********************\n",
            "0    4178\n",
            "1    2169\n",
            "Name: New/Resale, dtype: int64\n",
            "********************\n",
            "1    3690\n",
            "0    2657\n",
            "Name: Gymnasium, dtype: int64\n",
            "********************\n",
            "1    5087\n",
            "0    1260\n",
            "Name: Lift Available, dtype: int64\n",
            "********************\n",
            "1    3573\n",
            "0    2774\n",
            "Name: Car Parking, dtype: int64\n",
            "********************\n",
            "0    4561\n",
            "1    1786\n",
            "Name: Maintenance Staff, dtype: int64\n",
            "********************\n",
            "1    3573\n",
            "0    2774\n",
            "Name: 24x7 Security, dtype: int64\n",
            "********************\n",
            "1    3550\n",
            "0    2797\n",
            "Name: Children's Play Area, dtype: int64\n",
            "********************\n",
            "0    3197\n",
            "1    3150\n",
            "Name: Clubhouse, dtype: int64\n",
            "********************\n",
            "0    3270\n",
            "1    3077\n",
            "Name: Intercom, dtype: int64\n",
            "********************\n",
            "0    4058\n",
            "1    2289\n",
            "Name: Landscaped Gardens, dtype: int64\n",
            "********************\n",
            "0    4953\n",
            "1    1394\n",
            "Name: Indoor Games, dtype: int64\n",
            "********************\n",
            "0    4804\n",
            "1    1543\n",
            "Name: Gas Connection, dtype: int64\n",
            "********************\n",
            "0    3926\n",
            "1    2421\n",
            "Name: Jogging Track, dtype: int64\n",
            "********************\n",
            "0    3438\n",
            "1    2909\n",
            "Name: Swimming Pool, dtype: int64\n",
            "********************\n"
          ]
        }
      ],
      "source": [
        "for column in data.columns:\n",
        "  print(data[column].value_counts())\n",
        "  print(\"*\"*20)"
      ]
    },
    {
      "cell_type": "code",
      "execution_count": null,
      "metadata": {
        "id": "fSDXN_JvYVVe",
        "outputId": "9ac33e25-8223-450c-fda4-420e0833d69c",
        "colab": {
          "base_uri": "https://localhost:8080/"
        }
      },
      "outputs": [
        {
          "output_type": "execute_result",
          "data": {
            "text/plain": [
              "Unnamed: 0              0\n",
              "Price                   0\n",
              "Area                    0\n",
              "Location                0\n",
              "No. of Bedrooms         0\n",
              "New/Resale              0\n",
              "Gymnasium               0\n",
              "Lift Available          0\n",
              "Car Parking             0\n",
              "Maintenance Staff       0\n",
              "24x7 Security           0\n",
              "Children's Play Area    0\n",
              "Clubhouse               0\n",
              "Intercom                0\n",
              "Landscaped Gardens      0\n",
              "Indoor Games            0\n",
              "Gas Connection          0\n",
              "Jogging Track           0\n",
              "Swimming Pool           0\n",
              "dtype: int64"
            ]
          },
          "metadata": {},
          "execution_count": 8
        }
      ],
      "source": [
        "data.isna().sum()"
      ]
    },
    {
      "cell_type": "code",
      "execution_count": null,
      "metadata": {
        "id": "8MO-nOl9ZGZU"
      },
      "outputs": [],
      "source": [
        "data.drop(columns=['Gymnasium', 'Lift Available', 'Car Parking', 'Maintenance Staff', '24x7 Security', \"Children's Play Area\", \"Clubhouse\", \"Intercom\", \"Landscaped Gardens\", \"Indoor Games\", \"Gas Connection\", \"Jogging Track\", \"Swimming Pool\"], inplace=True)"
      ]
    },
    {
      "cell_type": "code",
      "execution_count": null,
      "metadata": {
        "id": "n9Xo9c0Vm-l_",
        "outputId": "8a8d7707-bb11-4c7b-ebec-27749a74faea",
        "colab": {
          "base_uri": "https://localhost:8080/"
        }
      },
      "outputs": [
        {
          "output_type": "execute_result",
          "data": {
            "text/plain": [
              "(6347, 6)"
            ]
          },
          "metadata": {},
          "execution_count": 10
        }
      ],
      "source": [
        "data.shape"
      ]
    },
    {
      "cell_type": "code",
      "execution_count": null,
      "metadata": {
        "id": "MIqugcjrb7E1",
        "outputId": "d1870ffc-7d7d-41b9-e8d0-23a301f8f8cb",
        "colab": {
          "base_uri": "https://localhost:8080/",
          "height": 300
        }
      },
      "outputs": [
        {
          "output_type": "execute_result",
          "data": {
            "text/plain": [
              "        Unnamed: 0         Price         Area  No. of Bedrooms   New/Resale\n",
              "count  6347.000000  6.347000e+03  6347.000000      6347.000000  6347.000000\n",
              "mean   3173.000000  1.515401e+07  1004.327084         1.910036     0.341736\n",
              "std    1832.365411  2.015943e+07   556.375703         0.863304     0.474329\n",
              "min       0.000000  2.000000e+06   200.000000         1.000000     0.000000\n",
              "25%    1586.500000  5.300000e+06   650.000000         1.000000     0.000000\n",
              "50%    3173.000000  9.500000e+06   905.000000         2.000000     0.000000\n",
              "75%    4759.500000  1.750000e+07  1182.000000         2.000000     1.000000\n",
              "max    6346.000000  4.200000e+08  8511.000000         7.000000     1.000000"
            ],
            "text/html": [
              "\n",
              "  <div id=\"df-d25a374c-7a04-491e-8c74-d2edbf5e764a\">\n",
              "    <div class=\"colab-df-container\">\n",
              "      <div>\n",
              "<style scoped>\n",
              "    .dataframe tbody tr th:only-of-type {\n",
              "        vertical-align: middle;\n",
              "    }\n",
              "\n",
              "    .dataframe tbody tr th {\n",
              "        vertical-align: top;\n",
              "    }\n",
              "\n",
              "    .dataframe thead th {\n",
              "        text-align: right;\n",
              "    }\n",
              "</style>\n",
              "<table border=\"1\" class=\"dataframe\">\n",
              "  <thead>\n",
              "    <tr style=\"text-align: right;\">\n",
              "      <th></th>\n",
              "      <th>Unnamed: 0</th>\n",
              "      <th>Price</th>\n",
              "      <th>Area</th>\n",
              "      <th>No. of Bedrooms</th>\n",
              "      <th>New/Resale</th>\n",
              "    </tr>\n",
              "  </thead>\n",
              "  <tbody>\n",
              "    <tr>\n",
              "      <th>count</th>\n",
              "      <td>6347.000000</td>\n",
              "      <td>6.347000e+03</td>\n",
              "      <td>6347.000000</td>\n",
              "      <td>6347.000000</td>\n",
              "      <td>6347.000000</td>\n",
              "    </tr>\n",
              "    <tr>\n",
              "      <th>mean</th>\n",
              "      <td>3173.000000</td>\n",
              "      <td>1.515401e+07</td>\n",
              "      <td>1004.327084</td>\n",
              "      <td>1.910036</td>\n",
              "      <td>0.341736</td>\n",
              "    </tr>\n",
              "    <tr>\n",
              "      <th>std</th>\n",
              "      <td>1832.365411</td>\n",
              "      <td>2.015943e+07</td>\n",
              "      <td>556.375703</td>\n",
              "      <td>0.863304</td>\n",
              "      <td>0.474329</td>\n",
              "    </tr>\n",
              "    <tr>\n",
              "      <th>min</th>\n",
              "      <td>0.000000</td>\n",
              "      <td>2.000000e+06</td>\n",
              "      <td>200.000000</td>\n",
              "      <td>1.000000</td>\n",
              "      <td>0.000000</td>\n",
              "    </tr>\n",
              "    <tr>\n",
              "      <th>25%</th>\n",
              "      <td>1586.500000</td>\n",
              "      <td>5.300000e+06</td>\n",
              "      <td>650.000000</td>\n",
              "      <td>1.000000</td>\n",
              "      <td>0.000000</td>\n",
              "    </tr>\n",
              "    <tr>\n",
              "      <th>50%</th>\n",
              "      <td>3173.000000</td>\n",
              "      <td>9.500000e+06</td>\n",
              "      <td>905.000000</td>\n",
              "      <td>2.000000</td>\n",
              "      <td>0.000000</td>\n",
              "    </tr>\n",
              "    <tr>\n",
              "      <th>75%</th>\n",
              "      <td>4759.500000</td>\n",
              "      <td>1.750000e+07</td>\n",
              "      <td>1182.000000</td>\n",
              "      <td>2.000000</td>\n",
              "      <td>1.000000</td>\n",
              "    </tr>\n",
              "    <tr>\n",
              "      <th>max</th>\n",
              "      <td>6346.000000</td>\n",
              "      <td>4.200000e+08</td>\n",
              "      <td>8511.000000</td>\n",
              "      <td>7.000000</td>\n",
              "      <td>1.000000</td>\n",
              "    </tr>\n",
              "  </tbody>\n",
              "</table>\n",
              "</div>\n",
              "      <button class=\"colab-df-convert\" onclick=\"convertToInteractive('df-d25a374c-7a04-491e-8c74-d2edbf5e764a')\"\n",
              "              title=\"Convert this dataframe to an interactive table.\"\n",
              "              style=\"display:none;\">\n",
              "        \n",
              "  <svg xmlns=\"http://www.w3.org/2000/svg\" height=\"24px\"viewBox=\"0 0 24 24\"\n",
              "       width=\"24px\">\n",
              "    <path d=\"M0 0h24v24H0V0z\" fill=\"none\"/>\n",
              "    <path d=\"M18.56 5.44l.94 2.06.94-2.06 2.06-.94-2.06-.94-.94-2.06-.94 2.06-2.06.94zm-11 1L8.5 8.5l.94-2.06 2.06-.94-2.06-.94L8.5 2.5l-.94 2.06-2.06.94zm10 10l.94 2.06.94-2.06 2.06-.94-2.06-.94-.94-2.06-.94 2.06-2.06.94z\"/><path d=\"M17.41 7.96l-1.37-1.37c-.4-.4-.92-.59-1.43-.59-.52 0-1.04.2-1.43.59L10.3 9.45l-7.72 7.72c-.78.78-.78 2.05 0 2.83L4 21.41c.39.39.9.59 1.41.59.51 0 1.02-.2 1.41-.59l7.78-7.78 2.81-2.81c.8-.78.8-2.07 0-2.86zM5.41 20L4 18.59l7.72-7.72 1.47 1.35L5.41 20z\"/>\n",
              "  </svg>\n",
              "      </button>\n",
              "      \n",
              "  <style>\n",
              "    .colab-df-container {\n",
              "      display:flex;\n",
              "      flex-wrap:wrap;\n",
              "      gap: 12px;\n",
              "    }\n",
              "\n",
              "    .colab-df-convert {\n",
              "      background-color: #E8F0FE;\n",
              "      border: none;\n",
              "      border-radius: 50%;\n",
              "      cursor: pointer;\n",
              "      display: none;\n",
              "      fill: #1967D2;\n",
              "      height: 32px;\n",
              "      padding: 0 0 0 0;\n",
              "      width: 32px;\n",
              "    }\n",
              "\n",
              "    .colab-df-convert:hover {\n",
              "      background-color: #E2EBFA;\n",
              "      box-shadow: 0px 1px 2px rgba(60, 64, 67, 0.3), 0px 1px 3px 1px rgba(60, 64, 67, 0.15);\n",
              "      fill: #174EA6;\n",
              "    }\n",
              "\n",
              "    [theme=dark] .colab-df-convert {\n",
              "      background-color: #3B4455;\n",
              "      fill: #D2E3FC;\n",
              "    }\n",
              "\n",
              "    [theme=dark] .colab-df-convert:hover {\n",
              "      background-color: #434B5C;\n",
              "      box-shadow: 0px 1px 3px 1px rgba(0, 0, 0, 0.15);\n",
              "      filter: drop-shadow(0px 1px 2px rgba(0, 0, 0, 0.3));\n",
              "      fill: #FFFFFF;\n",
              "    }\n",
              "  </style>\n",
              "\n",
              "      <script>\n",
              "        const buttonEl =\n",
              "          document.querySelector('#df-d25a374c-7a04-491e-8c74-d2edbf5e764a button.colab-df-convert');\n",
              "        buttonEl.style.display =\n",
              "          google.colab.kernel.accessAllowed ? 'block' : 'none';\n",
              "\n",
              "        async function convertToInteractive(key) {\n",
              "          const element = document.querySelector('#df-d25a374c-7a04-491e-8c74-d2edbf5e764a');\n",
              "          const dataTable =\n",
              "            await google.colab.kernel.invokeFunction('convertToInteractive',\n",
              "                                                     [key], {});\n",
              "          if (!dataTable) return;\n",
              "\n",
              "          const docLinkHtml = 'Like what you see? Visit the ' +\n",
              "            '<a target=\"_blank\" href=https://colab.research.google.com/notebooks/data_table.ipynb>data table notebook</a>'\n",
              "            + ' to learn more about interactive tables.';\n",
              "          element.innerHTML = '';\n",
              "          dataTable['output_type'] = 'display_data';\n",
              "          await google.colab.output.renderOutput(dataTable, element);\n",
              "          const docLink = document.createElement('div');\n",
              "          docLink.innerHTML = docLinkHtml;\n",
              "          element.appendChild(docLink);\n",
              "        }\n",
              "      </script>\n",
              "    </div>\n",
              "  </div>\n",
              "  "
            ]
          },
          "metadata": {},
          "execution_count": 11
        }
      ],
      "source": [
        "data.describe()"
      ]
    },
    {
      "cell_type": "code",
      "execution_count": null,
      "metadata": {
        "id": "5lhBgujAcCXR",
        "outputId": "29d6944d-2f5a-48b8-87c4-c36a57ec66f1",
        "colab": {
          "base_uri": "https://localhost:8080/"
        }
      },
      "outputs": [
        {
          "output_type": "stream",
          "name": "stdout",
          "text": [
            "<class 'pandas.core.frame.DataFrame'>\n",
            "RangeIndex: 6347 entries, 0 to 6346\n",
            "Data columns (total 6 columns):\n",
            " #   Column           Non-Null Count  Dtype \n",
            "---  ------           --------------  ----- \n",
            " 0   Unnamed: 0       6347 non-null   int64 \n",
            " 1   Price            6347 non-null   int64 \n",
            " 2   Area             6347 non-null   int64 \n",
            " 3   Location         6347 non-null   object\n",
            " 4   No. of Bedrooms  6347 non-null   int64 \n",
            " 5   New/Resale       6347 non-null   int64 \n",
            "dtypes: int64(5), object(1)\n",
            "memory usage: 297.6+ KB\n"
          ]
        }
      ],
      "source": [
        "data.info()"
      ]
    },
    {
      "cell_type": "code",
      "execution_count": null,
      "metadata": {
        "id": "pHXvssy-cctj"
      },
      "outputs": [],
      "source": [
        "data['price_per_sqft'] = data['Price'] / data['Area']"
      ]
    },
    {
      "cell_type": "code",
      "execution_count": null,
      "metadata": {
        "id": "n-J4CxDSkVmk",
        "outputId": "52d062d1-78c1-4000-e435-d8a8bb47f2b7",
        "colab": {
          "base_uri": "https://localhost:8080/"
        }
      },
      "outputs": [
        {
          "output_type": "execute_result",
          "data": {
            "text/plain": [
              "0        6736.111111\n",
              "1        7500.000000\n",
              "2       10307.692308\n",
              "3        6923.076923\n",
              "4        7518.796992\n",
              "            ...     \n",
              "6342     3550.000000\n",
              "6343    16111.111111\n",
              "6344    16111.111111\n",
              "6345     2971.014493\n",
              "6346     3928.571429\n",
              "Name: price_per_sqft, Length: 6347, dtype: float64"
            ]
          },
          "metadata": {},
          "execution_count": 14
        }
      ],
      "source": [
        "data['price_per_sqft']"
      ]
    },
    {
      "cell_type": "code",
      "execution_count": null,
      "metadata": {
        "id": "cKjKTwBDkXRJ",
        "outputId": "d0c467e3-f955-42b7-8f3a-4eff8db467d5",
        "colab": {
          "base_uri": "https://localhost:8080/"
        }
      },
      "outputs": [
        {
          "output_type": "execute_result",
          "data": {
            "text/plain": [
              "0            Kharghar\n",
              "1            Kharghar\n",
              "2            Kharghar\n",
              "3            Kharghar\n",
              "4            Kharghar\n",
              "            ...      \n",
              "6342         Shirgaon\n",
              "6343       Thane West\n",
              "6344       Thane West\n",
              "6345           Boisar\n",
              "6346    Badlapur East\n",
              "Name: Location, Length: 6347, dtype: object"
            ]
          },
          "metadata": {},
          "execution_count": 15
        }
      ],
      "source": [
        "data['Location']"
      ]
    },
    {
      "cell_type": "code",
      "execution_count": null,
      "metadata": {
        "id": "9D1Nn0Ifks9d"
      },
      "outputs": [],
      "source": [
        "data['Location'] = data['Location'].apply(lambda x: x.strip())\n",
        "location_count = data['Location'].value_counts()"
      ]
    },
    {
      "cell_type": "code",
      "execution_count": null,
      "metadata": {
        "id": "wQJeFhY4lRwM",
        "outputId": "b880c448-851a-4dfd-b664-a2488c168a0d",
        "colab": {
          "base_uri": "https://localhost:8080/"
        }
      },
      "outputs": [
        {
          "output_type": "execute_result",
          "data": {
            "text/plain": [
              "Sector 19 Kharghar    10\n",
              "Sion                  10\n",
              "Majiwada              10\n",
              "Sector12 Kamothe       9\n",
              "kandivali              9\n",
              "                      ..\n",
              "worli sea face         1\n",
              "Sea Face               1\n",
              "Shiv Sagar Estate      1\n",
              "Natakwala Lane         1\n",
              "Padle Gaon             1\n",
              "Name: Location, Length: 324, dtype: int64"
            ]
          },
          "metadata": {},
          "execution_count": 17
        }
      ],
      "source": [
        "location_count_less_10 = location_count[location_count <= 10]\n",
        "location_count_less_10"
      ]
    },
    {
      "cell_type": "code",
      "execution_count": null,
      "metadata": {
        "id": "GeZtob94leIB"
      },
      "outputs": [],
      "source": [
        "data['Location'] = data['Location'].apply(lambda x: 'other' if x in location_count_less_10 else x)"
      ]
    },
    {
      "cell_type": "code",
      "execution_count": null,
      "metadata": {
        "id": "rQe47zT9l-6S",
        "outputId": "92b4788f-5594-4004-b853-7c0d66292ebd",
        "colab": {
          "base_uri": "https://localhost:8080/"
        }
      },
      "outputs": [
        {
          "output_type": "execute_result",
          "data": {
            "text/plain": [
              "other             808\n",
              "Kharghar          533\n",
              "Thane West        418\n",
              "Mira Road East    390\n",
              "Ulwe              319\n",
              "                 ... \n",
              "Vashi              12\n",
              "matunga east       12\n",
              "Kalyan East        11\n",
              "Palghar            11\n",
              "Kurla West         11\n",
              "Name: Location, Length: 90, dtype: int64"
            ]
          },
          "metadata": {},
          "execution_count": 19
        }
      ],
      "source": [
        "data['Location'].value_counts()"
      ]
    },
    {
      "cell_type": "code",
      "execution_count": null,
      "metadata": {
        "id": "m6_1rPtSmCpK",
        "outputId": "ba7b2abb-5596-4b3e-9627-4f32b23e40ed",
        "colab": {
          "base_uri": "https://localhost:8080/",
          "height": 300
        }
      },
      "outputs": [
        {
          "output_type": "execute_result",
          "data": {
            "text/plain": [
              "        Unnamed: 0         Price         Area  No. of Bedrooms   New/Resale  \\\n",
              "count  6347.000000  6.347000e+03  6347.000000      6347.000000  6347.000000   \n",
              "mean   3173.000000  1.515401e+07  1004.327084         1.910036     0.341736   \n",
              "std    1832.365411  2.015943e+07   556.375703         0.863304     0.474329   \n",
              "min       0.000000  2.000000e+06   200.000000         1.000000     0.000000   \n",
              "25%    1586.500000  5.300000e+06   650.000000         1.000000     0.000000   \n",
              "50%    3173.000000  9.500000e+06   905.000000         2.000000     0.000000   \n",
              "75%    4759.500000  1.750000e+07  1182.000000         2.000000     1.000000   \n",
              "max    6346.000000  4.200000e+08  8511.000000         7.000000     1.000000   \n",
              "\n",
              "       price_per_sqft  \n",
              "count     6347.000000  \n",
              "mean     13555.465839  \n",
              "std       9573.921483  \n",
              "min       1597.444089  \n",
              "25%       7234.042553  \n",
              "50%      10493.827160  \n",
              "75%      17142.857143  \n",
              "max     109950.522265  "
            ],
            "text/html": [
              "\n",
              "  <div id=\"df-5812106b-dc80-4d3e-88ec-59eeaf82bdc4\">\n",
              "    <div class=\"colab-df-container\">\n",
              "      <div>\n",
              "<style scoped>\n",
              "    .dataframe tbody tr th:only-of-type {\n",
              "        vertical-align: middle;\n",
              "    }\n",
              "\n",
              "    .dataframe tbody tr th {\n",
              "        vertical-align: top;\n",
              "    }\n",
              "\n",
              "    .dataframe thead th {\n",
              "        text-align: right;\n",
              "    }\n",
              "</style>\n",
              "<table border=\"1\" class=\"dataframe\">\n",
              "  <thead>\n",
              "    <tr style=\"text-align: right;\">\n",
              "      <th></th>\n",
              "      <th>Unnamed: 0</th>\n",
              "      <th>Price</th>\n",
              "      <th>Area</th>\n",
              "      <th>No. of Bedrooms</th>\n",
              "      <th>New/Resale</th>\n",
              "      <th>price_per_sqft</th>\n",
              "    </tr>\n",
              "  </thead>\n",
              "  <tbody>\n",
              "    <tr>\n",
              "      <th>count</th>\n",
              "      <td>6347.000000</td>\n",
              "      <td>6.347000e+03</td>\n",
              "      <td>6347.000000</td>\n",
              "      <td>6347.000000</td>\n",
              "      <td>6347.000000</td>\n",
              "      <td>6347.000000</td>\n",
              "    </tr>\n",
              "    <tr>\n",
              "      <th>mean</th>\n",
              "      <td>3173.000000</td>\n",
              "      <td>1.515401e+07</td>\n",
              "      <td>1004.327084</td>\n",
              "      <td>1.910036</td>\n",
              "      <td>0.341736</td>\n",
              "      <td>13555.465839</td>\n",
              "    </tr>\n",
              "    <tr>\n",
              "      <th>std</th>\n",
              "      <td>1832.365411</td>\n",
              "      <td>2.015943e+07</td>\n",
              "      <td>556.375703</td>\n",
              "      <td>0.863304</td>\n",
              "      <td>0.474329</td>\n",
              "      <td>9573.921483</td>\n",
              "    </tr>\n",
              "    <tr>\n",
              "      <th>min</th>\n",
              "      <td>0.000000</td>\n",
              "      <td>2.000000e+06</td>\n",
              "      <td>200.000000</td>\n",
              "      <td>1.000000</td>\n",
              "      <td>0.000000</td>\n",
              "      <td>1597.444089</td>\n",
              "    </tr>\n",
              "    <tr>\n",
              "      <th>25%</th>\n",
              "      <td>1586.500000</td>\n",
              "      <td>5.300000e+06</td>\n",
              "      <td>650.000000</td>\n",
              "      <td>1.000000</td>\n",
              "      <td>0.000000</td>\n",
              "      <td>7234.042553</td>\n",
              "    </tr>\n",
              "    <tr>\n",
              "      <th>50%</th>\n",
              "      <td>3173.000000</td>\n",
              "      <td>9.500000e+06</td>\n",
              "      <td>905.000000</td>\n",
              "      <td>2.000000</td>\n",
              "      <td>0.000000</td>\n",
              "      <td>10493.827160</td>\n",
              "    </tr>\n",
              "    <tr>\n",
              "      <th>75%</th>\n",
              "      <td>4759.500000</td>\n",
              "      <td>1.750000e+07</td>\n",
              "      <td>1182.000000</td>\n",
              "      <td>2.000000</td>\n",
              "      <td>1.000000</td>\n",
              "      <td>17142.857143</td>\n",
              "    </tr>\n",
              "    <tr>\n",
              "      <th>max</th>\n",
              "      <td>6346.000000</td>\n",
              "      <td>4.200000e+08</td>\n",
              "      <td>8511.000000</td>\n",
              "      <td>7.000000</td>\n",
              "      <td>1.000000</td>\n",
              "      <td>109950.522265</td>\n",
              "    </tr>\n",
              "  </tbody>\n",
              "</table>\n",
              "</div>\n",
              "      <button class=\"colab-df-convert\" onclick=\"convertToInteractive('df-5812106b-dc80-4d3e-88ec-59eeaf82bdc4')\"\n",
              "              title=\"Convert this dataframe to an interactive table.\"\n",
              "              style=\"display:none;\">\n",
              "        \n",
              "  <svg xmlns=\"http://www.w3.org/2000/svg\" height=\"24px\"viewBox=\"0 0 24 24\"\n",
              "       width=\"24px\">\n",
              "    <path d=\"M0 0h24v24H0V0z\" fill=\"none\"/>\n",
              "    <path d=\"M18.56 5.44l.94 2.06.94-2.06 2.06-.94-2.06-.94-.94-2.06-.94 2.06-2.06.94zm-11 1L8.5 8.5l.94-2.06 2.06-.94-2.06-.94L8.5 2.5l-.94 2.06-2.06.94zm10 10l.94 2.06.94-2.06 2.06-.94-2.06-.94-.94-2.06-.94 2.06-2.06.94z\"/><path d=\"M17.41 7.96l-1.37-1.37c-.4-.4-.92-.59-1.43-.59-.52 0-1.04.2-1.43.59L10.3 9.45l-7.72 7.72c-.78.78-.78 2.05 0 2.83L4 21.41c.39.39.9.59 1.41.59.51 0 1.02-.2 1.41-.59l7.78-7.78 2.81-2.81c.8-.78.8-2.07 0-2.86zM5.41 20L4 18.59l7.72-7.72 1.47 1.35L5.41 20z\"/>\n",
              "  </svg>\n",
              "      </button>\n",
              "      \n",
              "  <style>\n",
              "    .colab-df-container {\n",
              "      display:flex;\n",
              "      flex-wrap:wrap;\n",
              "      gap: 12px;\n",
              "    }\n",
              "\n",
              "    .colab-df-convert {\n",
              "      background-color: #E8F0FE;\n",
              "      border: none;\n",
              "      border-radius: 50%;\n",
              "      cursor: pointer;\n",
              "      display: none;\n",
              "      fill: #1967D2;\n",
              "      height: 32px;\n",
              "      padding: 0 0 0 0;\n",
              "      width: 32px;\n",
              "    }\n",
              "\n",
              "    .colab-df-convert:hover {\n",
              "      background-color: #E2EBFA;\n",
              "      box-shadow: 0px 1px 2px rgba(60, 64, 67, 0.3), 0px 1px 3px 1px rgba(60, 64, 67, 0.15);\n",
              "      fill: #174EA6;\n",
              "    }\n",
              "\n",
              "    [theme=dark] .colab-df-convert {\n",
              "      background-color: #3B4455;\n",
              "      fill: #D2E3FC;\n",
              "    }\n",
              "\n",
              "    [theme=dark] .colab-df-convert:hover {\n",
              "      background-color: #434B5C;\n",
              "      box-shadow: 0px 1px 3px 1px rgba(0, 0, 0, 0.15);\n",
              "      filter: drop-shadow(0px 1px 2px rgba(0, 0, 0, 0.3));\n",
              "      fill: #FFFFFF;\n",
              "    }\n",
              "  </style>\n",
              "\n",
              "      <script>\n",
              "        const buttonEl =\n",
              "          document.querySelector('#df-5812106b-dc80-4d3e-88ec-59eeaf82bdc4 button.colab-df-convert');\n",
              "        buttonEl.style.display =\n",
              "          google.colab.kernel.accessAllowed ? 'block' : 'none';\n",
              "\n",
              "        async function convertToInteractive(key) {\n",
              "          const element = document.querySelector('#df-5812106b-dc80-4d3e-88ec-59eeaf82bdc4');\n",
              "          const dataTable =\n",
              "            await google.colab.kernel.invokeFunction('convertToInteractive',\n",
              "                                                     [key], {});\n",
              "          if (!dataTable) return;\n",
              "\n",
              "          const docLinkHtml = 'Like what you see? Visit the ' +\n",
              "            '<a target=\"_blank\" href=https://colab.research.google.com/notebooks/data_table.ipynb>data table notebook</a>'\n",
              "            + ' to learn more about interactive tables.';\n",
              "          element.innerHTML = '';\n",
              "          dataTable['output_type'] = 'display_data';\n",
              "          await google.colab.output.renderOutput(dataTable, element);\n",
              "          const docLink = document.createElement('div');\n",
              "          docLink.innerHTML = docLinkHtml;\n",
              "          element.appendChild(docLink);\n",
              "        }\n",
              "      </script>\n",
              "    </div>\n",
              "  </div>\n",
              "  "
            ]
          },
          "metadata": {},
          "execution_count": 20
        }
      ],
      "source": [
        "data.describe()"
      ]
    },
    {
      "cell_type": "code",
      "execution_count": null,
      "metadata": {
        "id": "pls1JkT9mNb5",
        "outputId": "38181e26-5721-4736-cc57-ac342e0c8047",
        "colab": {
          "base_uri": "https://localhost:8080/"
        }
      },
      "outputs": [
        {
          "output_type": "stream",
          "name": "stdout",
          "text": [
            "<class 'pandas.core.frame.DataFrame'>\n",
            "RangeIndex: 6347 entries, 0 to 6346\n",
            "Data columns (total 7 columns):\n",
            " #   Column           Non-Null Count  Dtype  \n",
            "---  ------           --------------  -----  \n",
            " 0   Unnamed: 0       6347 non-null   int64  \n",
            " 1   Price            6347 non-null   int64  \n",
            " 2   Area             6347 non-null   int64  \n",
            " 3   Location         6347 non-null   object \n",
            " 4   No. of Bedrooms  6347 non-null   int64  \n",
            " 5   New/Resale       6347 non-null   int64  \n",
            " 6   price_per_sqft   6347 non-null   float64\n",
            "dtypes: float64(1), int64(5), object(1)\n",
            "memory usage: 347.2+ KB\n"
          ]
        }
      ],
      "source": [
        "data.info()"
      ]
    },
    {
      "cell_type": "code",
      "execution_count": null,
      "metadata": {
        "id": "lNgXEZo0mng7",
        "outputId": "c9ded71a-654a-4de0-ed53-dcae10563b19",
        "colab": {
          "base_uri": "https://localhost:8080/",
          "height": 300
        }
      },
      "outputs": [
        {
          "output_type": "execute_result",
          "data": {
            "text/plain": [
              "        Unnamed: 0         Price         Area  No. of Bedrooms   New/Resale  \\\n",
              "count  4922.000000  4.922000e+03  4922.000000      4922.000000  4922.000000   \n",
              "mean   3153.062373  1.314812e+07   993.934173         1.854328     0.321008   \n",
              "std    1836.880233  1.443915e+07   521.370099         0.825394     0.466911   \n",
              "min       1.000000  2.000000e+06   200.000000         1.000000     0.000000   \n",
              "25%    1534.250000  5.300000e+06   650.000000         1.000000     0.000000   \n",
              "50%    3173.500000  9.000000e+06   910.000000         2.000000     0.000000   \n",
              "75%    4743.750000  1.600000e+07  1160.000000         2.000000     1.000000   \n",
              "max    6346.000000  2.300000e+08  7600.000000         7.000000     1.000000   \n",
              "\n",
              "       price_per_sqft  \n",
              "count     4922.000000  \n",
              "mean     12183.266919  \n",
              "std       7351.799480  \n",
              "min       2222.222222  \n",
              "25%       7175.375831  \n",
              "50%       9703.687445  \n",
              "75%      16190.476190  \n",
              "max      55813.953488  "
            ],
            "text/html": [
              "\n",
              "  <div id=\"df-ee7eb783-e1d3-4f2d-858d-d838c260fbb3\">\n",
              "    <div class=\"colab-df-container\">\n",
              "      <div>\n",
              "<style scoped>\n",
              "    .dataframe tbody tr th:only-of-type {\n",
              "        vertical-align: middle;\n",
              "    }\n",
              "\n",
              "    .dataframe tbody tr th {\n",
              "        vertical-align: top;\n",
              "    }\n",
              "\n",
              "    .dataframe thead th {\n",
              "        text-align: right;\n",
              "    }\n",
              "</style>\n",
              "<table border=\"1\" class=\"dataframe\">\n",
              "  <thead>\n",
              "    <tr style=\"text-align: right;\">\n",
              "      <th></th>\n",
              "      <th>Unnamed: 0</th>\n",
              "      <th>Price</th>\n",
              "      <th>Area</th>\n",
              "      <th>No. of Bedrooms</th>\n",
              "      <th>New/Resale</th>\n",
              "      <th>price_per_sqft</th>\n",
              "    </tr>\n",
              "  </thead>\n",
              "  <tbody>\n",
              "    <tr>\n",
              "      <th>count</th>\n",
              "      <td>4922.000000</td>\n",
              "      <td>4.922000e+03</td>\n",
              "      <td>4922.000000</td>\n",
              "      <td>4922.000000</td>\n",
              "      <td>4922.000000</td>\n",
              "      <td>4922.000000</td>\n",
              "    </tr>\n",
              "    <tr>\n",
              "      <th>mean</th>\n",
              "      <td>3153.062373</td>\n",
              "      <td>1.314812e+07</td>\n",
              "      <td>993.934173</td>\n",
              "      <td>1.854328</td>\n",
              "      <td>0.321008</td>\n",
              "      <td>12183.266919</td>\n",
              "    </tr>\n",
              "    <tr>\n",
              "      <th>std</th>\n",
              "      <td>1836.880233</td>\n",
              "      <td>1.443915e+07</td>\n",
              "      <td>521.370099</td>\n",
              "      <td>0.825394</td>\n",
              "      <td>0.466911</td>\n",
              "      <td>7351.799480</td>\n",
              "    </tr>\n",
              "    <tr>\n",
              "      <th>min</th>\n",
              "      <td>1.000000</td>\n",
              "      <td>2.000000e+06</td>\n",
              "      <td>200.000000</td>\n",
              "      <td>1.000000</td>\n",
              "      <td>0.000000</td>\n",
              "      <td>2222.222222</td>\n",
              "    </tr>\n",
              "    <tr>\n",
              "      <th>25%</th>\n",
              "      <td>1534.250000</td>\n",
              "      <td>5.300000e+06</td>\n",
              "      <td>650.000000</td>\n",
              "      <td>1.000000</td>\n",
              "      <td>0.000000</td>\n",
              "      <td>7175.375831</td>\n",
              "    </tr>\n",
              "    <tr>\n",
              "      <th>50%</th>\n",
              "      <td>3173.500000</td>\n",
              "      <td>9.000000e+06</td>\n",
              "      <td>910.000000</td>\n",
              "      <td>2.000000</td>\n",
              "      <td>0.000000</td>\n",
              "      <td>9703.687445</td>\n",
              "    </tr>\n",
              "    <tr>\n",
              "      <th>75%</th>\n",
              "      <td>4743.750000</td>\n",
              "      <td>1.600000e+07</td>\n",
              "      <td>1160.000000</td>\n",
              "      <td>2.000000</td>\n",
              "      <td>1.000000</td>\n",
              "      <td>16190.476190</td>\n",
              "    </tr>\n",
              "    <tr>\n",
              "      <th>max</th>\n",
              "      <td>6346.000000</td>\n",
              "      <td>2.300000e+08</td>\n",
              "      <td>7600.000000</td>\n",
              "      <td>7.000000</td>\n",
              "      <td>1.000000</td>\n",
              "      <td>55813.953488</td>\n",
              "    </tr>\n",
              "  </tbody>\n",
              "</table>\n",
              "</div>\n",
              "      <button class=\"colab-df-convert\" onclick=\"convertToInteractive('df-ee7eb783-e1d3-4f2d-858d-d838c260fbb3')\"\n",
              "              title=\"Convert this dataframe to an interactive table.\"\n",
              "              style=\"display:none;\">\n",
              "        \n",
              "  <svg xmlns=\"http://www.w3.org/2000/svg\" height=\"24px\"viewBox=\"0 0 24 24\"\n",
              "       width=\"24px\">\n",
              "    <path d=\"M0 0h24v24H0V0z\" fill=\"none\"/>\n",
              "    <path d=\"M18.56 5.44l.94 2.06.94-2.06 2.06-.94-2.06-.94-.94-2.06-.94 2.06-2.06.94zm-11 1L8.5 8.5l.94-2.06 2.06-.94-2.06-.94L8.5 2.5l-.94 2.06-2.06.94zm10 10l.94 2.06.94-2.06 2.06-.94-2.06-.94-.94-2.06-.94 2.06-2.06.94z\"/><path d=\"M17.41 7.96l-1.37-1.37c-.4-.4-.92-.59-1.43-.59-.52 0-1.04.2-1.43.59L10.3 9.45l-7.72 7.72c-.78.78-.78 2.05 0 2.83L4 21.41c.39.39.9.59 1.41.59.51 0 1.02-.2 1.41-.59l7.78-7.78 2.81-2.81c.8-.78.8-2.07 0-2.86zM5.41 20L4 18.59l7.72-7.72 1.47 1.35L5.41 20z\"/>\n",
              "  </svg>\n",
              "      </button>\n",
              "      \n",
              "  <style>\n",
              "    .colab-df-container {\n",
              "      display:flex;\n",
              "      flex-wrap:wrap;\n",
              "      gap: 12px;\n",
              "    }\n",
              "\n",
              "    .colab-df-convert {\n",
              "      background-color: #E8F0FE;\n",
              "      border: none;\n",
              "      border-radius: 50%;\n",
              "      cursor: pointer;\n",
              "      display: none;\n",
              "      fill: #1967D2;\n",
              "      height: 32px;\n",
              "      padding: 0 0 0 0;\n",
              "      width: 32px;\n",
              "    }\n",
              "\n",
              "    .colab-df-convert:hover {\n",
              "      background-color: #E2EBFA;\n",
              "      box-shadow: 0px 1px 2px rgba(60, 64, 67, 0.3), 0px 1px 3px 1px rgba(60, 64, 67, 0.15);\n",
              "      fill: #174EA6;\n",
              "    }\n",
              "\n",
              "    [theme=dark] .colab-df-convert {\n",
              "      background-color: #3B4455;\n",
              "      fill: #D2E3FC;\n",
              "    }\n",
              "\n",
              "    [theme=dark] .colab-df-convert:hover {\n",
              "      background-color: #434B5C;\n",
              "      box-shadow: 0px 1px 3px 1px rgba(0, 0, 0, 0.15);\n",
              "      filter: drop-shadow(0px 1px 2px rgba(0, 0, 0, 0.3));\n",
              "      fill: #FFFFFF;\n",
              "    }\n",
              "  </style>\n",
              "\n",
              "      <script>\n",
              "        const buttonEl =\n",
              "          document.querySelector('#df-ee7eb783-e1d3-4f2d-858d-d838c260fbb3 button.colab-df-convert');\n",
              "        buttonEl.style.display =\n",
              "          google.colab.kernel.accessAllowed ? 'block' : 'none';\n",
              "\n",
              "        async function convertToInteractive(key) {\n",
              "          const element = document.querySelector('#df-ee7eb783-e1d3-4f2d-858d-d838c260fbb3');\n",
              "          const dataTable =\n",
              "            await google.colab.kernel.invokeFunction('convertToInteractive',\n",
              "                                                     [key], {});\n",
              "          if (!dataTable) return;\n",
              "\n",
              "          const docLinkHtml = 'Like what you see? Visit the ' +\n",
              "            '<a target=\"_blank\" href=https://colab.research.google.com/notebooks/data_table.ipynb>data table notebook</a>'\n",
              "            + ' to learn more about interactive tables.';\n",
              "          element.innerHTML = '';\n",
              "          dataTable['output_type'] = 'display_data';\n",
              "          await google.colab.output.renderOutput(dataTable, element);\n",
              "          const docLink = document.createElement('div');\n",
              "          docLink.innerHTML = docLinkHtml;\n",
              "          element.appendChild(docLink);\n",
              "        }\n",
              "      </script>\n",
              "    </div>\n",
              "  </div>\n",
              "  "
            ]
          },
          "metadata": {},
          "execution_count": 22
        }
      ],
      "source": [
        "def remove_outliers_sqft(df):\n",
        "  df_output = pd.DataFrame()\n",
        "  for key, subdf in df.groupby('Location'):\n",
        "    m = np.mean(subdf.price_per_sqft)\n",
        "    st = np.std(subdf.price_per_sqft)\n",
        "    \n",
        "    gen_df = subdf[(subdf.price_per_sqft > (m - st)) & (subdf.price_per_sqft <= (m+st))]\n",
        "    df_output = pd.concat([df_output, gen_df], ignore_index = True)\n",
        "  return df_output\n",
        "data = remove_outliers_sqft(data)\n",
        "data.describe()"
      ]
    },
    {
      "cell_type": "code",
      "execution_count": null,
      "metadata": {
        "id": "vy-uR6tcrdRv",
        "outputId": "156e93ac-0284-4a56-dcc5-3927d619c807",
        "colab": {
          "base_uri": "https://localhost:8080/"
        }
      },
      "outputs": [
        {
          "output_type": "execute_result",
          "data": {
            "text/plain": [
              "(4922, 7)"
            ]
          },
          "metadata": {},
          "execution_count": 23
        }
      ],
      "source": [
        "data.shape"
      ]
    },
    {
      "cell_type": "code",
      "execution_count": null,
      "metadata": {
        "id": "qIxUIs04SjJb"
      },
      "outputs": [],
      "source": [
        "data.drop(columns=['price_per_sqft','New/Resale', 'Unnamed: 0'], inplace=True)"
      ]
    },
    {
      "cell_type": "code",
      "execution_count": null,
      "metadata": {
        "id": "wl0L1_sEVFj0",
        "outputId": "a140a9c3-f450-43d7-888c-12b33aaa578b",
        "colab": {
          "base_uri": "https://localhost:8080/",
          "height": 206
        }
      },
      "outputs": [
        {
          "output_type": "execute_result",
          "data": {
            "text/plain": [
              "      Price  Area Location  No. of Bedrooms\n",
              "0   6200000   400   Airoli                1\n",
              "1   9500000  1000   Airoli                2\n",
              "2  14900000  1245   Airoli                2\n",
              "3  14000000  1183   Airoli                2\n",
              "4  14800000  1245   Airoli                2"
            ],
            "text/html": [
              "\n",
              "  <div id=\"df-18068c2d-6761-462b-ab96-afad1e2e2ba2\">\n",
              "    <div class=\"colab-df-container\">\n",
              "      <div>\n",
              "<style scoped>\n",
              "    .dataframe tbody tr th:only-of-type {\n",
              "        vertical-align: middle;\n",
              "    }\n",
              "\n",
              "    .dataframe tbody tr th {\n",
              "        vertical-align: top;\n",
              "    }\n",
              "\n",
              "    .dataframe thead th {\n",
              "        text-align: right;\n",
              "    }\n",
              "</style>\n",
              "<table border=\"1\" class=\"dataframe\">\n",
              "  <thead>\n",
              "    <tr style=\"text-align: right;\">\n",
              "      <th></th>\n",
              "      <th>Price</th>\n",
              "      <th>Area</th>\n",
              "      <th>Location</th>\n",
              "      <th>No. of Bedrooms</th>\n",
              "    </tr>\n",
              "  </thead>\n",
              "  <tbody>\n",
              "    <tr>\n",
              "      <th>0</th>\n",
              "      <td>6200000</td>\n",
              "      <td>400</td>\n",
              "      <td>Airoli</td>\n",
              "      <td>1</td>\n",
              "    </tr>\n",
              "    <tr>\n",
              "      <th>1</th>\n",
              "      <td>9500000</td>\n",
              "      <td>1000</td>\n",
              "      <td>Airoli</td>\n",
              "      <td>2</td>\n",
              "    </tr>\n",
              "    <tr>\n",
              "      <th>2</th>\n",
              "      <td>14900000</td>\n",
              "      <td>1245</td>\n",
              "      <td>Airoli</td>\n",
              "      <td>2</td>\n",
              "    </tr>\n",
              "    <tr>\n",
              "      <th>3</th>\n",
              "      <td>14000000</td>\n",
              "      <td>1183</td>\n",
              "      <td>Airoli</td>\n",
              "      <td>2</td>\n",
              "    </tr>\n",
              "    <tr>\n",
              "      <th>4</th>\n",
              "      <td>14800000</td>\n",
              "      <td>1245</td>\n",
              "      <td>Airoli</td>\n",
              "      <td>2</td>\n",
              "    </tr>\n",
              "  </tbody>\n",
              "</table>\n",
              "</div>\n",
              "      <button class=\"colab-df-convert\" onclick=\"convertToInteractive('df-18068c2d-6761-462b-ab96-afad1e2e2ba2')\"\n",
              "              title=\"Convert this dataframe to an interactive table.\"\n",
              "              style=\"display:none;\">\n",
              "        \n",
              "  <svg xmlns=\"http://www.w3.org/2000/svg\" height=\"24px\"viewBox=\"0 0 24 24\"\n",
              "       width=\"24px\">\n",
              "    <path d=\"M0 0h24v24H0V0z\" fill=\"none\"/>\n",
              "    <path d=\"M18.56 5.44l.94 2.06.94-2.06 2.06-.94-2.06-.94-.94-2.06-.94 2.06-2.06.94zm-11 1L8.5 8.5l.94-2.06 2.06-.94-2.06-.94L8.5 2.5l-.94 2.06-2.06.94zm10 10l.94 2.06.94-2.06 2.06-.94-2.06-.94-.94-2.06-.94 2.06-2.06.94z\"/><path d=\"M17.41 7.96l-1.37-1.37c-.4-.4-.92-.59-1.43-.59-.52 0-1.04.2-1.43.59L10.3 9.45l-7.72 7.72c-.78.78-.78 2.05 0 2.83L4 21.41c.39.39.9.59 1.41.59.51 0 1.02-.2 1.41-.59l7.78-7.78 2.81-2.81c.8-.78.8-2.07 0-2.86zM5.41 20L4 18.59l7.72-7.72 1.47 1.35L5.41 20z\"/>\n",
              "  </svg>\n",
              "      </button>\n",
              "      \n",
              "  <style>\n",
              "    .colab-df-container {\n",
              "      display:flex;\n",
              "      flex-wrap:wrap;\n",
              "      gap: 12px;\n",
              "    }\n",
              "\n",
              "    .colab-df-convert {\n",
              "      background-color: #E8F0FE;\n",
              "      border: none;\n",
              "      border-radius: 50%;\n",
              "      cursor: pointer;\n",
              "      display: none;\n",
              "      fill: #1967D2;\n",
              "      height: 32px;\n",
              "      padding: 0 0 0 0;\n",
              "      width: 32px;\n",
              "    }\n",
              "\n",
              "    .colab-df-convert:hover {\n",
              "      background-color: #E2EBFA;\n",
              "      box-shadow: 0px 1px 2px rgba(60, 64, 67, 0.3), 0px 1px 3px 1px rgba(60, 64, 67, 0.15);\n",
              "      fill: #174EA6;\n",
              "    }\n",
              "\n",
              "    [theme=dark] .colab-df-convert {\n",
              "      background-color: #3B4455;\n",
              "      fill: #D2E3FC;\n",
              "    }\n",
              "\n",
              "    [theme=dark] .colab-df-convert:hover {\n",
              "      background-color: #434B5C;\n",
              "      box-shadow: 0px 1px 3px 1px rgba(0, 0, 0, 0.15);\n",
              "      filter: drop-shadow(0px 1px 2px rgba(0, 0, 0, 0.3));\n",
              "      fill: #FFFFFF;\n",
              "    }\n",
              "  </style>\n",
              "\n",
              "      <script>\n",
              "        const buttonEl =\n",
              "          document.querySelector('#df-18068c2d-6761-462b-ab96-afad1e2e2ba2 button.colab-df-convert');\n",
              "        buttonEl.style.display =\n",
              "          google.colab.kernel.accessAllowed ? 'block' : 'none';\n",
              "\n",
              "        async function convertToInteractive(key) {\n",
              "          const element = document.querySelector('#df-18068c2d-6761-462b-ab96-afad1e2e2ba2');\n",
              "          const dataTable =\n",
              "            await google.colab.kernel.invokeFunction('convertToInteractive',\n",
              "                                                     [key], {});\n",
              "          if (!dataTable) return;\n",
              "\n",
              "          const docLinkHtml = 'Like what you see? Visit the ' +\n",
              "            '<a target=\"_blank\" href=https://colab.research.google.com/notebooks/data_table.ipynb>data table notebook</a>'\n",
              "            + ' to learn more about interactive tables.';\n",
              "          element.innerHTML = '';\n",
              "          dataTable['output_type'] = 'display_data';\n",
              "          await google.colab.output.renderOutput(dataTable, element);\n",
              "          const docLink = document.createElement('div');\n",
              "          docLink.innerHTML = docLinkHtml;\n",
              "          element.appendChild(docLink);\n",
              "        }\n",
              "      </script>\n",
              "    </div>\n",
              "  </div>\n",
              "  "
            ]
          },
          "metadata": {},
          "execution_count": 25
        }
      ],
      "source": [
        "data.head()"
      ]
    },
    {
      "cell_type": "code",
      "execution_count": null,
      "metadata": {
        "id": "I-ttChxYVHWE"
      },
      "outputs": [],
      "source": [
        "data.to_csv('/content/drive/MyDrive/Cleaned_data.csv')"
      ]
    },
    {
      "cell_type": "code",
      "execution_count": null,
      "metadata": {
        "id": "Bb6R0kaCVbcb",
        "outputId": "3cfeaf4b-c309-4872-8ad3-14eb1c8a259b",
        "colab": {
          "base_uri": "https://localhost:8080/"
        }
      },
      "outputs": [
        {
          "output_type": "stream",
          "name": "stdout",
          "text": [
            "      Area Location  No. of Bedrooms\n",
            "0      400   Airoli                1\n",
            "1     1000   Airoli                2\n",
            "2     1245   Airoli                2\n",
            "3     1183   Airoli                2\n",
            "4     1245   Airoli                2\n",
            "...    ...      ...              ...\n",
            "4917   325    other                1\n",
            "4918   695    other                1\n",
            "4919   650    other                1\n",
            "4920   700    other                1\n",
            "4921   700    other                1\n",
            "\n",
            "[4922 rows x 3 columns]\n",
            "0        6200000\n",
            "1        9500000\n",
            "2       14900000\n",
            "3       14000000\n",
            "4       14800000\n",
            "          ...   \n",
            "4917     4500000\n",
            "4918     4260000\n",
            "4919     3500000\n",
            "4920     2465000\n",
            "4921     2485000\n",
            "Name: Price, Length: 4922, dtype: int64\n"
          ]
        }
      ],
      "source": [
        "X = data.drop(columns=['Price'])\n",
        "y = data['Price']\n",
        "print(X)\n",
        "print(y)"
      ]
    },
    {
      "cell_type": "code",
      "execution_count": null,
      "metadata": {
        "id": "EH8sfHJEiGWE",
        "outputId": "2341239c-ff67-4938-8d70-11e9dc3e44c3",
        "colab": {
          "base_uri": "https://localhost:8080/",
          "height": 345
        }
      },
      "outputs": [
        {
          "output_type": "stream",
          "name": "stderr",
          "text": [
            "/usr/local/lib/python3.7/dist-packages/seaborn/distributions.py:2619: FutureWarning: `distplot` is a deprecated function and will be removed in a future version. Please adapt your code to use either `displot` (a figure-level function with similar flexibility) or `histplot` (an axes-level function for histograms).\n",
            "  warnings.warn(msg, FutureWarning)\n"
          ]
        },
        {
          "output_type": "display_data",
          "data": {
            "text/plain": [
              "<Figure size 432x288 with 1 Axes>"
            ],
            "image/png": "[encoded data removed]"
          },
          "metadata": {
            "needs_background": "light"
          }
        }
      ],
      "source": [
        "import seaborn as sns\n",
        "import matplotlib.pyplot as plt\n",
        "sns.distplot(y)\n",
        "plt.show()"
      ]
    },
    {
      "cell_type": "code",
      "execution_count": null,
      "metadata": {
        "id": "h1cZW5ZrikcQ",
        "outputId": "e1171e1b-fdb6-456f-992b-5406bc4a35f3",
        "colab": {
          "base_uri": "https://localhost:8080/"
        }
      },
      "outputs": [
        {
          "output_type": "execute_result",
          "data": {
            "text/plain": [
              "4.831290169159669"
            ]
          },
          "metadata": {},
          "execution_count": 29
        }
      ],
      "source": [
        "y.skew()"
      ]
    },
    {
      "cell_type": "code",
      "execution_count": null,
      "metadata": {
        "id": "cCOGxXeyipxv"
      },
      "outputs": [],
      "source": [
        "from scipy import stats\n",
        "y=stats.boxcox(y)[0]"
      ]
    },
    {
      "cell_type": "code",
      "execution_count": null,
      "metadata": {
        "id": "kAmAYYI1ivrO",
        "outputId": "046d1bf3-b784-47f6-b6a7-88502f3b7ac2",
        "colab": {
          "base_uri": "https://localhost:8080/",
          "height": 324
        }
      },
      "outputs": [
        {
          "output_type": "stream",
          "name": "stderr",
          "text": [
            "/usr/local/lib/python3.7/dist-packages/seaborn/distributions.py:2619: FutureWarning: `distplot` is a deprecated function and will be removed in a future version. Please adapt your code to use either `displot` (a figure-level function with similar flexibility) or `histplot` (an axes-level function for histograms).\n",
            "  warnings.warn(msg, FutureWarning)\n"
          ]
        },
        {
          "output_type": "display_data",
          "data": {
            "text/plain": [
              "<Figure size 432x288 with 1 Axes>"
            ],
            "image/png": "[encoded data removed]"
          },
          "metadata": {
            "needs_background": "light"
          }
        }
      ],
      "source": [
        "sns.distplot(y)\n",
        "plt.show()"
      ]
    },
    {
      "cell_type": "code",
      "execution_count": null,
      "metadata": {
        "id": "qJPppin1jR9D",
        "outputId": "fba2922d-60d2-4444-d4e7-7ec9cc2eed48",
        "colab": {
          "base_uri": "https://localhost:8080/",
          "height": 595
        }
      },
      "outputs": [
        {
          "output_type": "display_data",
          "data": {
            "text/plain": [
              "<Figure size 1152x720 with 2 Axes>"
            ],
            "image/png": "[encoded data removed]"
          },
          "metadata": {
            "needs_background": "light"
          }
        }
      ],
      "source": [
        "import matplotlib.pyplot as plt\n",
        "import seaborn as sns\n",
        "%matplotlib inline\n",
        "# Let's see the correlation matrix \n",
        "plt.figure(figsize = (16,10))     # Size of the figure\n",
        "sns.heatmap(X.corr(),annot = True)\n",
        "plt.show()"
      ]
    },
    {
      "cell_type": "code",
      "execution_count": null,
      "metadata": {
        "id": "Vw1xY7xCjmaI",
        "outputId": "3624633e-c7a6-47aa-c945-5813e6b9760b",
        "colab": {
          "base_uri": "https://localhost:8080/"
        }
      },
      "outputs": [
        {
          "output_type": "stream",
          "name": "stdout",
          "text": [
            "mean_area is  993.9341731003657\n",
            "mean_nobedrooms is  1.854327509142625\n",
            "             Price        Area  No. of Bedrooms\n",
            "0    -6.948119e+06 -593.934173        -0.854328\n",
            "1    -3.648119e+06    6.065827         0.145672\n",
            "2     1.751881e+06  251.065827         0.145672\n",
            "3     8.518806e+05  189.065827         0.145672\n",
            "4     1.651881e+06  251.065827         0.145672\n",
            "...            ...         ...              ...\n",
            "4917 -8.648119e+06 -668.934173        -0.854328\n",
            "4918 -8.888119e+06 -298.934173        -0.854328\n",
            "4919 -9.648119e+06 -343.934173        -0.854328\n",
            "4920 -1.068312e+07 -293.934173        -0.854328\n",
            "4921 -1.066312e+07 -293.934173        -0.854328\n",
            "\n",
            "[4922 rows x 3 columns]\n"
          ]
        }
      ],
      "source": [
        "nX = data.drop(columns=['Location'])\n",
        "mean_area = nX['Area'].mean()\n",
        "mean_nobedrooms = nX['No. of Bedrooms'].mean()\n",
        "print('mean_area is ', mean_area)\n",
        "print('mean_nobedrooms is ', mean_nobedrooms)\n",
        "\n",
        "X_meaned = nX - np.mean(nX, axis=0)\n",
        "print(X_meaned)"
      ]
    },
    {
      "cell_type": "code",
      "execution_count": null,
      "metadata": {
        "id": "65olyRUjozbo",
        "outputId": "84cb920d-f901-41f0-cdc9-dee776d40a78",
        "colab": {
          "base_uri": "https://localhost:8080/"
        }
      },
      "outputs": [
        {
          "output_type": "stream",
          "name": "stdout",
          "text": [
            "[[2.08489197e+14 5.71052097e+09 7.42080667e+06]\n",
            " [5.71052097e+09 2.71826780e+05 3.56354563e+02]\n",
            " [7.42080667e+06 3.56354563e+02 6.81274705e-01]]\n"
          ]
        }
      ],
      "source": [
        "cov_mat = np.cov(X_meaned, rowvar = False)\n",
        "print(cov_mat)"
      ]
    },
    {
      "cell_type": "code",
      "execution_count": null,
      "metadata": {
        "id": "olhpMDjno9l5",
        "outputId": "fb788321-c1a2-40c2-b44d-b90e9610fd62",
        "colab": {
          "base_uri": "https://localhost:8080/"
        }
      },
      "outputs": [
        {
          "output_type": "stream",
          "name": "stdout",
          "text": [
            "[2.14058642e-01 1.15415763e+05 2.08489197e+14] [[-7.39637538e-10 -2.73900321e-05  1.00000000e+00]\n",
            " [ 1.32650009e-03  9.99999120e-01  2.73900090e-05]\n",
            " [-9.99999120e-01  1.32650009e-03  3.55932431e-08]]\n"
          ]
        }
      ],
      "source": [
        "eigen_values,eigen_vectors = np.linalg.eigh(cov_mat)\n",
        "print(eigen_values,eigen_vectors)"
      ]
    },
    {
      "cell_type": "code",
      "execution_count": null,
      "metadata": {
        "id": "WKUZjX1HpH_x",
        "outputId": "78a7e363-4bb7-48c0-df81-68d173888b8d",
        "colab": {
          "base_uri": "https://localhost:8080/"
        }
      },
      "outputs": [
        {
          "output_type": "stream",
          "name": "stdout",
          "text": [
            "[2.08489197e+14 1.15415763e+05 2.14058642e-01]\n"
          ]
        }
      ],
      "source": [
        "sorted_index = np.argsort(eigen_values)[::-1]\n",
        "sorted_eigenvalue = eigen_values[sorted_index]\n",
        "print(sorted_eigenvalue)"
      ]
    },
    {
      "cell_type": "code",
      "execution_count": null,
      "metadata": {
        "id": "Speft27fpaL0",
        "outputId": "2e6e24ac-c8fa-4f56-e304-444ea4fbeb23",
        "colab": {
          "base_uri": "https://localhost:8080/"
        }
      },
      "outputs": [
        {
          "output_type": "stream",
          "name": "stdout",
          "text": [
            "[[ 1.00000000e+00 -2.73900321e-05 -7.39637538e-10]\n",
            " [ 2.73900090e-05  9.99999120e-01  1.32650009e-03]\n",
            " [ 3.55932431e-08  1.32650009e-03 -9.99999120e-01]]\n"
          ]
        }
      ],
      "source": [
        "sorted_eigenvectors = eigen_vectors[:,sorted_index]\n",
        "print(sorted_eigenvectors)"
      ]
    },
    {
      "cell_type": "code",
      "execution_count": null,
      "metadata": {
        "id": "UaouGaG2pmaI",
        "outputId": "2069d4c1-caac-402e-ba64-6db5c04108df",
        "colab": {
          "base_uri": "https://localhost:8080/"
        }
      },
      "outputs": [
        {
          "output_type": "stream",
          "name": "stdout",
          "text": [
            "[[1.00000000e+00]\n",
            " [2.73900090e-05]\n",
            " [3.55932431e-08]]\n"
          ]
        }
      ],
      "source": [
        "n_components = 1\n",
        "eigenvector_subset = sorted_eigenvectors[:,0:n_components]\n",
        "print(eigenvector_subset)"
      ]
    },
    {
      "cell_type": "code",
      "execution_count": null,
      "metadata": {
        "id": "zojljY0Up1qC",
        "outputId": "388a52d1-9397-4417-b311-1708331c5aed",
        "colab": {
          "base_uri": "https://localhost:8080/"
        }
      },
      "outputs": [
        {
          "output_type": "stream",
          "name": "stdout",
          "text": [
            "[[ -6948119.45880586]\n",
            " [ -3648119.44360967]\n",
            " [  1751880.56107531]\n",
            " ...\n",
            " [ -9648119.45094556]\n",
            " [-10683119.44918783]\n",
            " [-10663119.44919533]]\n"
          ]
        }
      ],
      "source": [
        "X_reduced = np.dot(eigenvector_subset.transpose(),X_meaned.transpose()).transpose()\n",
        "print(X_reduced)"
      ]
    },
    {
      "cell_type": "code",
      "execution_count": null,
      "metadata": {
        "id": "yAi0JGgOVscI"
      },
      "outputs": [],
      "source": [
        "from sklearn.model_selection import train_test_split\n",
        "from sklearn.linear_model import LinearRegression, Lasso, Ridge, LogisticRegression\n",
        "from sklearn.tree import DecisionTreeRegressor\n",
        "from sklearn.neighbors import KNeighborsRegressor\n",
        "from sklearn.preprocessing import OneHotEncoder, StandardScaler\n",
        "from sklearn.compose import make_column_transformer\n",
        "from sklearn.pipeline import make_pipeline\n",
        "from sklearn.metrics import r2_score"
      ]
    },
    {
      "cell_type": "code",
      "execution_count": null,
      "metadata": {
        "id": "Hv5NgIurYTNb"
      },
      "outputs": [],
      "source": [
        "X_train, X_test, y_train, y_test = train_test_split(X,y,test_size=0.2, random_state=0)"
      ]
    },
    {
      "cell_type": "code",
      "execution_count": null,
      "metadata": {
        "id": "_XNt-d-nYfmU",
        "outputId": "913a8882-4755-44f2-fa6a-b57da1dd04ed",
        "colab": {
          "base_uri": "https://localhost:8080/"
        }
      },
      "outputs": [
        {
          "output_type": "stream",
          "name": "stdout",
          "text": [
            "(3937, 3)\n",
            "(985, 3)\n"
          ]
        }
      ],
      "source": [
        "print(X_train.shape)\n",
        "print(X_test.shape)"
      ]
    },
    {
      "cell_type": "markdown",
      "metadata": {
        "id": "_Q2Jt1WWZ5S4"
      },
      "source": [
        "#**Applying Linear Regression**"
      ]
    },
    {
      "cell_type": "code",
      "execution_count": null,
      "metadata": {
        "id": "Gt-nHP6NYlIM"
      },
      "outputs": [],
      "source": [
        "column_trans = make_column_transformer((OneHotEncoder(sparse=False), ['Location']),remainder='passthrough')"
      ]
    },
    {
      "cell_type": "code",
      "execution_count": null,
      "metadata": {
        "id": "TjoFloRnY6WJ"
      },
      "outputs": [],
      "source": [
        "scaler = StandardScaler()"
      ]
    },
    {
      "cell_type": "code",
      "execution_count": null,
      "metadata": {
        "id": "8vgHpckSY9dZ"
      },
      "outputs": [],
      "source": [
        "lr = LinearRegression(normalize = True)"
      ]
    },
    {
      "cell_type": "code",
      "execution_count": null,
      "metadata": {
        "id": "lO434pkiZBAE"
      },
      "outputs": [],
      "source": [
        "pipe = make_pipeline(column_trans, scaler, lr)"
      ]
    },
    {
      "cell_type": "code",
      "execution_count": null,
      "metadata": {
        "id": "1Y_RRlZNZF-v",
        "outputId": "27e9bb7d-d0b5-491b-85ad-10b68b168934",
        "colab": {
          "base_uri": "https://localhost:8080/"
        }
      },
      "outputs": [
        {
          "output_type": "stream",
          "name": "stderr",
          "text": [
            "/usr/local/lib/python3.7/dist-packages/sklearn/linear_model/_base.py:145: FutureWarning: 'normalize' was deprecated in version 1.0 and will be removed in 1.2.\n",
            "If you wish to scale the data, use Pipeline with a StandardScaler in a preprocessing stage. To reproduce the previous behavior:\n",
            "\n",
            "from sklearn.pipeline import make_pipeline\n",
            "\n",
            "model = make_pipeline(StandardScaler(with_mean=False), LinearRegression())\n",
            "\n",
            "If you wish to pass a sample_weight parameter, you need to pass it as a fit parameter to each step of the pipeline as follows:\n",
            "\n",
            "kwargs = {s[0] + '__sample_weight': sample_weight for s in model.steps}\n",
            "model.fit(X, y, **kwargs)\n",
            "\n",
            "\n",
            "  FutureWarning,\n"
          ]
        },
        {
          "output_type": "execute_result",
          "data": {
            "text/plain": [
              "Pipeline(steps=[('columntransformer',\n",
              "                 ColumnTransformer(remainder='passthrough',\n",
              "                                   transformers=[('onehotencoder',\n",
              "                                                  OneHotEncoder(sparse=False),\n",
              "                                                  ['Location'])])),\n",
              "                ('standardscaler', StandardScaler()),\n",
              "                ('linearregression', LinearRegression(normalize=True))])"
            ]
          },
          "metadata": {},
          "execution_count": 47
        }
      ],
      "source": [
        "pipe.fit(X_train, y_train)"
      ]
    },
    {
      "cell_type": "code",
      "execution_count": null,
      "metadata": {
        "id": "aHVl24JOZP5m"
      },
      "outputs": [],
      "source": [
        "y_pred_lr = pipe.predict(X_test)"
      ]
    },
    {
      "cell_type": "code",
      "execution_count": null,
      "metadata": {
        "id": "bouDXpu16BQ1",
        "outputId": "2cca492e-97b3-4295-fdc3-e55a890e5f96",
        "colab": {
          "base_uri": "https://localhost:8080/"
        }
      },
      "outputs": [
        {
          "output_type": "stream",
          "name": "stdout",
          "text": [
            "         test      pred\n",
            "0    6.235352  6.238686\n",
            "1    6.049474  6.030284\n",
            "2    6.020815  6.034491\n",
            "3    6.163696  6.159180\n",
            "4    6.014753  5.962743\n",
            "..        ...       ...\n",
            "980  6.133507  6.134503\n",
            "981  6.118655  6.103513\n",
            "982  6.049474  6.058699\n",
            "983  6.113022  6.107299\n",
            "984  5.964580  6.070662\n",
            "\n",
            "[985 rows x 2 columns]\n"
          ]
        }
      ],
      "source": [
        "res = {\n",
        "  \"test\": y_test,\n",
        "  \"pred\": y_pred_lr\n",
        "}\n",
        "res = pd.DataFrame(res)\n",
        "print(res)"
      ]
    },
    {
      "cell_type": "code",
      "execution_count": null,
      "metadata": {
        "id": "hF6XyZ-jZa92",
        "outputId": "9531c228-7e26-4c16-ffa1-2f2bfd9111d8",
        "colab": {
          "base_uri": "https://localhost:8080/"
        }
      },
      "outputs": [
        {
          "output_type": "execute_result",
          "data": {
            "text/plain": [
              "0.8726156828805278"
            ]
          },
          "metadata": {},
          "execution_count": 50
        }
      ],
      "source": [
        "r2_score(y_test, y_pred_lr)"
      ]
    },
    {
      "cell_type": "markdown",
      "metadata": {
        "id": "YNZIJnE-IB4U"
      },
      "source": [
        "\n",
        "\n",
        "\n",
        "\n",
        "#**Applying KNN**"
      ]
    },
    {
      "cell_type": "code",
      "execution_count": null,
      "metadata": {
        "id": "obqJsDKQI3o6"
      },
      "outputs": [],
      "source": [
        "knn = KNeighborsRegressor(n_neighbors=5)\n"
      ]
    },
    {
      "cell_type": "code",
      "execution_count": null,
      "metadata": {
        "id": "75tDwo8bQ0Xx"
      },
      "outputs": [],
      "source": [
        "pipe = make_pipeline(column_trans, scaler, knn)"
      ]
    },
    {
      "cell_type": "code",
      "execution_count": null,
      "metadata": {
        "id": "xvxKa5AmRYq4",
        "outputId": "cb105edb-88dd-4e56-d083-92039f7dab60",
        "colab": {
          "base_uri": "https://localhost:8080/"
        }
      },
      "outputs": [
        {
          "output_type": "execute_result",
          "data": {
            "text/plain": [
              "Pipeline(steps=[('columntransformer',\n",
              "                 ColumnTransformer(remainder='passthrough',\n",
              "                                   transformers=[('onehotencoder',\n",
              "                                                  OneHotEncoder(sparse=False),\n",
              "                                                  ['Location'])])),\n",
              "                ('standardscaler', StandardScaler()),\n",
              "                ('kneighborsregressor', KNeighborsRegressor())])"
            ]
          },
          "metadata": {},
          "execution_count": 53
        }
      ],
      "source": [
        "pipe.fit(X_train, y_train)"
      ]
    },
    {
      "cell_type": "code",
      "execution_count": null,
      "metadata": {
        "id": "ZLwW5iKwSpP8"
      },
      "outputs": [],
      "source": [
        "y_pred_knn = pipe.predict(X_test)"
      ]
    },
    {
      "cell_type": "code",
      "execution_count": null,
      "metadata": {
        "id": "WOenH3XlSwPL",
        "outputId": "084f8720-15c2-4c26-ca46-a2c90becf608",
        "colab": {
          "base_uri": "https://localhost:8080/"
        }
      },
      "outputs": [
        {
          "output_type": "stream",
          "name": "stdout",
          "text": [
            "         test      pred\n",
            "0    6.235352  6.238763\n",
            "1    6.049474  6.055231\n",
            "2    6.020815  6.024145\n",
            "3    6.163696  6.157609\n",
            "4    6.014753  5.976193\n",
            "..        ...       ...\n",
            "980  6.133507  6.124576\n",
            "981  6.118655  6.113126\n",
            "982  6.049474  6.061302\n",
            "983  6.113022  6.099188\n",
            "984  5.964580  6.064636\n",
            "\n",
            "[985 rows x 2 columns]\n"
          ]
        }
      ],
      "source": [
        "res = {\n",
        "  \"test\": y_test,\n",
        "  \"pred\": y_pred_knn\n",
        "}\n",
        "res = pd.DataFrame(res)\n",
        "print(res)"
      ]
    },
    {
      "cell_type": "code",
      "execution_count": null,
      "metadata": {
        "id": "Mm1PYTWPSz73",
        "outputId": "0c640e7e-85ca-438b-e4c7-73e737c1d94d",
        "colab": {
          "base_uri": "https://localhost:8080/"
        }
      },
      "outputs": [
        {
          "output_type": "execute_result",
          "data": {
            "text/plain": [
              "0.888451943457347"
            ]
          },
          "metadata": {},
          "execution_count": 56
        }
      ],
      "source": [
        "r2_score(y_test, y_pred_knn)"
      ]
    },
    {
      "cell_type": "markdown",
      "metadata": {
        "id": "-QvMxf_yAzno"
      },
      "source": [
        "#**Applying Decision Tree**"
      ]
    },
    {
      "cell_type": "code",
      "execution_count": null,
      "metadata": {
        "id": "T9wDlZ7FA4Mm"
      },
      "outputs": [],
      "source": [
        "tr_regressor = DecisionTreeRegressor(random_state=0)"
      ]
    },
    {
      "cell_type": "code",
      "execution_count": null,
      "metadata": {
        "id": "pKQpBiJQB6kA"
      },
      "outputs": [],
      "source": [
        "pipe = make_pipeline(column_trans, scaler, tr_regressor)"
      ]
    },
    {
      "cell_type": "code",
      "execution_count": null,
      "metadata": {
        "id": "Ryetndd5B67U",
        "outputId": "be037408-0272-40d4-f6d9-e5482f8e7e25",
        "colab": {
          "base_uri": "https://localhost:8080/"
        }
      },
      "outputs": [
        {
          "output_type": "execute_result",
          "data": {
            "text/plain": [
              "Pipeline(steps=[('columntransformer',\n",
              "                 ColumnTransformer(remainder='passthrough',\n",
              "                                   transformers=[('onehotencoder',\n",
              "                                                  OneHotEncoder(sparse=False),\n",
              "                                                  ['Location'])])),\n",
              "                ('standardscaler', StandardScaler()),\n",
              "                ('decisiontreeregressor',\n",
              "                 DecisionTreeRegressor(random_state=0))])"
            ]
          },
          "metadata": {},
          "execution_count": 59
        }
      ],
      "source": [
        "pipe.fit(X_train, y_train)"
      ]
    },
    {
      "cell_type": "code",
      "execution_count": null,
      "metadata": {
        "id": "AmtwYdQsCO0G",
        "outputId": "04fa8006-c6d3-4923-e687-814e7d8d3271",
        "colab": {
          "base_uri": "https://localhost:8080/"
        }
      },
      "outputs": [
        {
          "output_type": "execute_result",
          "data": {
            "text/plain": [
              "0.841019231245745"
            ]
          },
          "metadata": {},
          "execution_count": 60
        }
      ],
      "source": [
        "y_pred_decision = pipe.predict(X_test)\n",
        "r2_score(y_test, y_pred_decision)"
      ]
    },
    {
      "cell_type": "code",
      "execution_count": null,
      "metadata": {
        "id": "eQHED6W-Cg1a",
        "outputId": "8a779ec1-6548-44ed-a2c7-9aa8ecd7ef13",
        "colab": {
          "base_uri": "https://localhost:8080/"
        }
      },
      "outputs": [
        {
          "output_type": "stream",
          "name": "stdout",
          "text": [
            "         test      pred\n",
            "0    6.235352  6.233742\n",
            "1    6.049474  6.055935\n",
            "2    6.020815  6.037523\n",
            "3    6.163696  6.151719\n",
            "4    6.014753  6.016626\n",
            "..        ...       ...\n",
            "980  6.133507  6.129213\n",
            "981  6.118655  6.121556\n",
            "982  6.049474  6.062496\n",
            "983  6.113022  6.014818\n",
            "984  5.964580  6.082770\n",
            "\n",
            "[985 rows x 2 columns]\n"
          ]
        }
      ],
      "source": [
        "res = {\n",
        "  \"test\": y_test,\n",
        "  \"pred\": y_pred_decision\n",
        "}\n",
        "res = pd.DataFrame(res)\n",
        "print(res)"
      ]
    },
    {
      "cell_type": "markdown",
      "metadata": {
        "id": "ej8lDX5aN47c"
      },
      "source": [
        "#**Applying Logistic Regression**\n",
        "\n",
        "\n"
      ]
    },
    {
      "cell_type": "code",
      "execution_count": null,
      "metadata": {
        "id": "-dtHFiaaOBM9"
      },
      "outputs": [],
      "source": [
        "logisticR = LogisticRegression(random_state=0)"
      ]
    },
    {
      "cell_type": "code",
      "execution_count": null,
      "metadata": {
        "id": "oU6avS8uOoMG"
      },
      "outputs": [],
      "source": [
        "pipe = make_pipeline(column_trans, scaler, tr_regressor)"
      ]
    },
    {
      "cell_type": "code",
      "execution_count": null,
      "metadata": {
        "id": "3YtcMskIOrZR",
        "colab": {
          "base_uri": "https://localhost:8080/"
        },
        "outputId": "3ceb4781-dc33-44f7-b82c-c15f55c594f8"
      },
      "outputs": [
        {
          "output_type": "execute_result",
          "data": {
            "text/plain": [
              "Pipeline(steps=[('columntransformer',\n",
              "                 ColumnTransformer(remainder='passthrough',\n",
              "                                   transformers=[('onehotencoder',\n",
              "                                                  OneHotEncoder(sparse=False),\n",
              "                                                  ['Location'])])),\n",
              "                ('standardscaler', StandardScaler()),\n",
              "                ('decisiontreeregressor',\n",
              "                 DecisionTreeRegressor(random_state=0))])"
            ]
          },
          "metadata": {},
          "execution_count": 64
        }
      ],
      "source": [
        "pipe.fit(X_train, y_train)"
      ]
    },
    {
      "cell_type": "code",
      "execution_count": null,
      "metadata": {
        "id": "L28Xng55Otiz",
        "colab": {
          "base_uri": "https://localhost:8080/"
        },
        "outputId": "53a78498-87c2-4cd1-f995-3d3a9848ba30"
      },
      "outputs": [
        {
          "output_type": "execute_result",
          "data": {
            "text/plain": [
              "0.841019231245745"
            ]
          },
          "metadata": {},
          "execution_count": 65
        }
      ],
      "source": [
        "y_pred_decision = pipe.predict(X_test)\n",
        "r2_score(y_test, y_pred_decision)"
      ]
    },
    {
      "cell_type": "code",
      "execution_count": null,
      "metadata": {
        "id": "DykSGZhbOx4M",
        "colab": {
          "base_uri": "https://localhost:8080/"
        },
        "outputId": "1bee253a-4653-46a8-907b-45053b29c7c3"
      },
      "outputs": [
        {
          "output_type": "stream",
          "name": "stdout",
          "text": [
            "         test      pred\n",
            "0    6.235352  6.233742\n",
            "1    6.049474  6.055935\n",
            "2    6.020815  6.037523\n",
            "3    6.163696  6.151719\n",
            "4    6.014753  6.016626\n",
            "..        ...       ...\n",
            "980  6.133507  6.129213\n",
            "981  6.118655  6.121556\n",
            "982  6.049474  6.062496\n",
            "983  6.113022  6.014818\n",
            "984  5.964580  6.082770\n",
            "\n",
            "[985 rows x 2 columns]\n"
          ]
        }
      ],
      "source": [
        "res = {\n",
        "  \"test\": y_test,\n",
        "  \"pred\": y_pred_decision\n",
        "}\n",
        "res = pd.DataFrame(res)\n",
        "print(res)"
      ]
    },
    {
      "cell_type": "markdown",
      "source": [
        "#**Applying Neural Network**"
      ],
      "metadata": {
        "id": "EAGS3Vi5poQm"
      }
    },
    {
      "cell_type": "code",
      "source": [
        "from keras.models import Sequential\n",
        "from keras.layers import Dense"
      ],
      "metadata": {
        "id": "oEALK7c0puFt"
      },
      "execution_count": null,
      "outputs": []
    },
    {
      "cell_type": "code",
      "source": [
        "model = Sequential([\n",
        "    Dense(32, activation='relu', input_shape=(10,)),\n",
        "    Dense(32, activation='relu'),\n",
        "    Dense(1, activation='sigmoid'),\n",
        "])"
      ],
      "metadata": {
        "id": "rNEDXE7UpwcT"
      },
      "execution_count": null,
      "outputs": []
    },
    {
      "cell_type": "code",
      "source": [
        "model.compile(optimizer='sgd',\n",
        "              loss='binary_crossentropy',\n",
        "              metrics=['accuracy'])"
      ],
      "metadata": {
        "id": "bwIdjxMopy-u"
      },
      "execution_count": null,
      "outputs": []
    },
    {
      "cell_type": "code",
      "source": [
        "pipe = make_pipeline(column_trans, scaler, tr_regressor)"
      ],
      "metadata": {
        "id": "orxHdPbBtUxa"
      },
      "execution_count": null,
      "outputs": []
    },
    {
      "cell_type": "code",
      "source": [
        "pipe.fit(X_train, y_train,)"
      ],
      "metadata": {
        "colab": {
          "base_uri": "https://localhost:8080/"
        },
        "id": "FJo6Uxw-p9zc",
        "outputId": "6d6e56f9-492a-4cd5-99e9-c61623b048ef"
      },
      "execution_count": null,
      "outputs": [
        {
          "output_type": "execute_result",
          "data": {
            "text/plain": [
              "Pipeline(steps=[('columntransformer',\n",
              "                 ColumnTransformer(remainder='passthrough',\n",
              "                                   transformers=[('onehotencoder',\n",
              "                                                  OneHotEncoder(sparse=False),\n",
              "                                                  ['Location'])])),\n",
              "                ('standardscaler', StandardScaler()),\n",
              "                ('decisiontreeregressor',\n",
              "                 DecisionTreeRegressor(random_state=0))])"
            ]
          },
          "metadata": {},
          "execution_count": 71
        }
      ]
    },
    {
      "cell_type": "code",
      "source": [
        "y_pred_decision = pipe.predict(X_test)\n",
        "r2_score(y_test, y_pred_decision)"
      ],
      "metadata": {
        "colab": {
          "base_uri": "https://localhost:8080/"
        },
        "id": "__vVnfvHqANr",
        "outputId": "beaf3eed-be65-470e-d541-8057b6cf675c"
      },
      "execution_count": null,
      "outputs": [
        {
          "output_type": "execute_result",
          "data": {
            "text/plain": [
              "0.841019231245745"
            ]
          },
          "metadata": {},
          "execution_count": 72
        }
      ]
    },
    {
      "cell_type": "code",
      "source": [
        "res = {\n",
        "  \"test\": y_test,\n",
        "  \"pred\": y_pred_decision\n",
        "}\n",
        "res = pd.DataFrame(res)\n",
        "print(res)"
      ],
      "metadata": {
        "colab": {
          "base_uri": "https://localhost:8080/"
        },
        "id": "Sp-Py8ONqE69",
        "outputId": "4c5acbc8-6dbf-4e67-f51c-712e7784e57a"
      },
      "execution_count": null,
      "outputs": [
        {
          "output_type": "stream",
          "name": "stdout",
          "text": [
            "         test      pred\n",
            "0    6.235352  6.233742\n",
            "1    6.049474  6.055935\n",
            "2    6.020815  6.037523\n",
            "3    6.163696  6.151719\n",
            "4    6.014753  6.016626\n",
            "..        ...       ...\n",
            "980  6.133507  6.129213\n",
            "981  6.118655  6.121556\n",
            "982  6.049474  6.062496\n",
            "983  6.113022  6.014818\n",
            "984  5.964580  6.082770\n",
            "\n",
            "[985 rows x 2 columns]\n"
          ]
        }
      ]
    },
    {
      "cell_type": "markdown",
      "metadata": {
        "id": "Dwpbx6GqaNYD"
      },
      "source": [
        "#**Applying Lasso**"
      ]
    },
    {
      "cell_type": "code",
      "execution_count": null,
      "metadata": {
        "id": "OKSBpXZQZd68"
      },
      "outputs": [],
      "source": [
        "lasso = Lasso()"
      ]
    },
    {
      "cell_type": "code",
      "execution_count": null,
      "metadata": {
        "id": "_9VP6roVZm0l"
      },
      "outputs": [],
      "source": [
        "pipe = make_pipeline(column_trans, scaler, lasso)"
      ]
    },
    {
      "cell_type": "code",
      "execution_count": null,
      "metadata": {
        "id": "C2XMQEaQZr2x",
        "outputId": "4d84d047-c5dd-4608-b9e9-e9d2138a50bd",
        "colab": {
          "base_uri": "https://localhost:8080/"
        }
      },
      "outputs": [
        {
          "output_type": "execute_result",
          "data": {
            "text/plain": [
              "Pipeline(steps=[('columntransformer',\n",
              "                 ColumnTransformer(remainder='passthrough',\n",
              "                                   transformers=[('onehotencoder',\n",
              "                                                  OneHotEncoder(sparse=False),\n",
              "                                                  ['Location'])])),\n",
              "                ('standardscaler', StandardScaler()), ('lasso', Lasso())])"
            ]
          },
          "metadata": {},
          "execution_count": 76
        }
      ],
      "source": [
        "pipe.fit(X_train, y_train)"
      ]
    },
    {
      "cell_type": "code",
      "execution_count": null,
      "metadata": {
        "id": "D7rL138YZufT",
        "outputId": "a0005eff-bcff-41de-f39c-eceb662f585a",
        "colab": {
          "base_uri": "https://localhost:8080/"
        }
      },
      "outputs": [
        {
          "output_type": "execute_result",
          "data": {
            "text/plain": [
              "-0.0024717220754220115"
            ]
          },
          "metadata": {},
          "execution_count": 77
        }
      ],
      "source": [
        "y_pred_lasso = pipe.predict(X_test)\n",
        "r2_score(y_test, y_pred_lasso)"
      ]
    },
    {
      "cell_type": "markdown",
      "metadata": {
        "id": "yrTzE34taR-Z"
      },
      "source": [
        "#**Applying Ridge**"
      ]
    },
    {
      "cell_type": "code",
      "execution_count": null,
      "metadata": {
        "id": "xLRpznyPZ1Az"
      },
      "outputs": [],
      "source": [
        "ridge = Ridge()"
      ]
    },
    {
      "cell_type": "code",
      "execution_count": null,
      "metadata": {
        "id": "oLDleho_aZC2"
      },
      "outputs": [],
      "source": [
        "pipe = make_pipeline(column_trans, scaler, ridge)"
      ]
    },
    {
      "cell_type": "code",
      "execution_count": null,
      "metadata": {
        "id": "id8ioKI_ab0u",
        "outputId": "825e1a59-88c0-445b-9473-e0900ebb9ebf",
        "colab": {
          "base_uri": "https://localhost:8080/"
        }
      },
      "outputs": [
        {
          "output_type": "execute_result",
          "data": {
            "text/plain": [
              "Pipeline(steps=[('columntransformer',\n",
              "                 ColumnTransformer(remainder='passthrough',\n",
              "                                   transformers=[('onehotencoder',\n",
              "                                                  OneHotEncoder(sparse=False),\n",
              "                                                  ['Location'])])),\n",
              "                ('standardscaler', StandardScaler()), ('ridge', Ridge())])"
            ]
          },
          "metadata": {},
          "execution_count": 80
        }
      ],
      "source": [
        "pipe.fit(X_train, y_train)"
      ]
    },
    {
      "cell_type": "code",
      "execution_count": null,
      "metadata": {
        "id": "NrufGZY0adaP",
        "outputId": "c2bac900-7593-4073-a0a3-f5089a470879",
        "colab": {
          "base_uri": "https://localhost:8080/"
        }
      },
      "outputs": [
        {
          "output_type": "execute_result",
          "data": {
            "text/plain": [
              "0.8725636880053342"
            ]
          },
          "metadata": {},
          "execution_count": 81
        }
      ],
      "source": [
        "y_pred_ridge = pipe.predict(X_test)\n",
        "r2_score(y_test, y_pred_ridge)"
      ]
    },
    {
      "cell_type": "code",
      "execution_count": null,
      "metadata": {
        "id": "xxmWAF0qaioE",
        "outputId": "33947fba-eac6-4e28-85e1-0208dd949cce",
        "colab": {
          "base_uri": "https://localhost:8080/"
        }
      },
      "outputs": [
        {
          "output_type": "stream",
          "name": "stdout",
          "text": [
            "No Regularization:  0.8726156828805278\n",
            "Lasso:  -0.0024717220754220115\n",
            "Ridge:  0.8725636880053342\n"
          ]
        }
      ],
      "source": [
        "  print(\"No Regularization: \", r2_score(y_test, y_pred_lr))\n",
        "  print(\"Lasso: \", r2_score(y_test, y_pred_lasso))\n",
        "  print(\"Ridge: \", r2_score(y_test, y_pred_ridge))"
      ]
    },
    {
      "cell_type": "code",
      "execution_count": null,
      "metadata": {
        "id": "8m27QPxFavPz"
      },
      "outputs": [],
      "source": [
        "import pickle"
      ]
    },
    {
      "cell_type": "code",
      "execution_count": null,
      "metadata": {
        "id": "gpaFnlpUbWZO"
      },
      "outputs": [],
      "source": [
        "pickle.dump(pipe, open('/content/drive/MyDrive/RidgeModel.pkl','wb'))"
      ]
    },
    {
      "cell_type": "code",
      "execution_count": null,
      "metadata": {
        "id": "3ALmbcgNXFH4"
      },
      "outputs": [],
      "source": []
    },
    {
      "cell_type": "code",
      "execution_count": null,
      "metadata": {
        "id": "xIFT-7sybfh8"
      },
      "outputs": [],
      "source": []
    }
  ],
  "metadata": {
    "colab": {
      "provenance": [],
      "collapsed_sections": [
        "ej8lDX5aN47c",
        "EAGS3Vi5poQm",
        "Dwpbx6GqaNYD",
        "yrTzE34taR-Z"
      ],
      "toc_visible": true,
      "include_colab_link": true
    },
    "kernelspec": {
      "display_name": "Python 3",
      "name": "python3"
    },
    "language_info": {
      "name": "python"
    }
  },
  "nbformat": 4,
  "nbformat_minor": 0
}